{
 "cells": [
  {
   "cell_type": "markdown",
   "id": "901af214",
   "metadata": {},
   "source": [
    "# <center> Emotion recognition task"
   ]
  },
  {
   "cell_type": "code",
   "execution_count": 4,
   "id": "4e00657b",
   "metadata": {},
   "outputs": [],
   "source": [
    "import pandas as pd\n",
    "import numpy as np\n",
    "import os"
   ]
  },
  {
   "cell_type": "code",
   "execution_count": 5,
   "id": "54be7edf",
   "metadata": {},
   "outputs": [
    {
     "data": {
      "text/plain": [
       "['data_Angry.csv',\n",
       " 'data_Disgusted.csv',\n",
       " 'data_Domination.csv',\n",
       " 'data_Happy.csv',\n",
       " 'data_Neutral.csv',\n",
       " 'data_Sad.csv',\n",
       " 'data_Scared.csv',\n",
       " 'data_Shame.csv',\n",
       " 'data_Submission.csv',\n",
       " 'data_Surprised.csv',\n",
       " 'data_Tiredness.csv']"
      ]
     },
     "execution_count": 5,
     "metadata": {},
     "output_type": "execute_result"
    }
   ],
   "source": [
    "emotion_metadata = os.listdir('Annotations_by_emotions')\n",
    "emotion_metadata"
   ]
  },
  {
   "cell_type": "markdown",
   "id": "c2bb90e0",
   "metadata": {},
   "source": [
    "## Первый подход (без stft)"
   ]
  },
  {
   "cell_type": "code",
   "execution_count": 6,
   "id": "3d59271f",
   "metadata": {},
   "outputs": [],
   "source": [
    "def features_extractor(filename):\n",
    "    audio, sample_rate = librosa.load(filename, res_type='kaiser_fast') \n",
    "    mfccs_features = librosa.feature.mfcc(y=audio, sr=sample_rate, n_mfcc=40)\n",
    "    mfccs_scaled_features = np.mean(mfccs_features.T,axis=0)\n",
    "    \n",
    "    return mfccs_scaled_features"
   ]
  },
  {
   "cell_type": "code",
   "execution_count": 7,
   "id": "68ffeb9c",
   "metadata": {},
   "outputs": [
    {
     "data": {
      "text/plain": [
       "array([-3.4626126e+02,  9.1232590e+01,  1.8996464e+01,  2.1748775e+01,\n",
       "        2.5303898e+00,  1.3351003e+00, -4.1439075e+00, -4.4578829e+00,\n",
       "       -6.6111913e+00, -1.2234282e-01, -4.7692361e+00,  4.1236606e+00,\n",
       "       -4.3782949e+00,  1.3337648e+00,  1.0647517e+00,  5.6903768e-02,\n",
       "       -1.6698180e+00,  2.5723994e+00, -1.1487240e+00, -1.4735566e-01,\n",
       "        3.1428200e-01, -4.2726949e-01, -7.7109551e-01,  1.0621809e+00,\n",
       "        1.2280817e+00,  1.6288308e+00,  3.0913405e+00,  2.8090508e+00,\n",
       "        3.7402315e+00,  2.2184596e+00,  8.2098657e-01, -5.3912725e-02,\n",
       "        2.6544949e-02,  6.9597429e-01,  1.4695151e+00,  9.1858304e-01,\n",
       "        3.0254650e-01, -3.1394064e-01,  3.4233758e-01,  1.1811378e+00],\n",
       "      dtype=float32)"
      ]
     },
     "execution_count": 7,
     "metadata": {},
     "output_type": "execute_result"
    }
   ],
   "source": [
    "features_extractor('Audio/10dec_D11_1_mic.wav')"
   ]
  },
  {
   "cell_type": "code",
   "execution_count": 8,
   "id": "9613c91b",
   "metadata": {},
   "outputs": [
    {
     "data": {
      "text/plain": [
       "{'data_Angry.csv': 'Angry',\n",
       " 'data_Disgusted.csv': 'Disgusted',\n",
       " 'data_Domination.csv': 'Domination',\n",
       " 'data_Happy.csv': 'Happy',\n",
       " 'data_Neutral.csv': 'Neutral',\n",
       " 'data_Sad.csv': 'Sad',\n",
       " 'data_Scared.csv': 'Scared',\n",
       " 'data_Shame.csv': 'Shame',\n",
       " 'data_Submission.csv': 'Submission',\n",
       " 'data_Surprised.csv': 'Surprised',\n",
       " 'data_Tiredness.csv': 'Tiredness'}"
      ]
     },
     "execution_count": 8,
     "metadata": {},
     "output_type": "execute_result"
    }
   ],
   "source": [
    "emotion_dict = dict(zip(emotion_metadata, list(map(lambda x: x[5:-4], emotion_metadata))))\n",
    "emotion_dict"
   ]
  },
  {
   "cell_type": "code",
   "execution_count": 9,
   "id": "8f82732a",
   "metadata": {},
   "outputs": [],
   "source": [
    "def make_dataset(emotion_dict, emotion_path, audio_path):\n",
    "    small_files = 0\n",
    "    files_lost = 0\n",
    "    error = 0\n",
    "    result_data = []\n",
    "    for table, classname in emotion_dict.items():\n",
    "        data = pd.read_csv(emotion_path + '/' + table)\n",
    "        for i, row in data.iterrows():\n",
    "            if row['End'] - row['Start'] > 3:\n",
    "                try:\n",
    "                    try:\n",
    "                        file = AudioSegment.from_file(audio_path + '/' + row['File'] + '_mic.wav')\n",
    "                    except FileNotFoundError:\n",
    "                        files_lost += 1\n",
    "                        continue\n",
    "                    new_file = file[row['Start'] * 1000 : row['End'] * 1000]\n",
    "                    new_file.export('test.wav', format='wav')\n",
    "                    features = features_extractor('test.wav')\n",
    "                    result_data.append([features, classname])\n",
    "                except:\n",
    "                    error += 1\n",
    "                    continue\n",
    "            else:\n",
    "                small_files += 1\n",
    "            if i % 100 == 0:\n",
    "                print(f'Class {classname}, Step {i}')\n",
    "    print(f'Small files: {small_files}, Lost_files: {files_lost}, Errors: {error}')\n",
    "    return result_data"
   ]
  },
  {
   "cell_type": "code",
   "execution_count": 46,
   "id": "a6fe3d99",
   "metadata": {},
   "outputs": [
    {
     "name": "stdout",
     "output_type": "stream",
     "text": [
      "Class Angry, Step 0\n",
      "Class Angry, Step 100\n",
      "Class Angry, Step 200\n",
      "Class Angry, Step 300\n",
      "Class Angry, Step 400\n",
      "Class Angry, Step 500\n",
      "Class Angry, Step 600\n",
      "Class Angry, Step 700\n",
      "Class Angry, Step 800\n",
      "Class Angry, Step 900\n",
      "Class Angry, Step 1000\n",
      "Class Angry, Step 1100\n",
      "Class Angry, Step 1200\n",
      "Class Angry, Step 1300\n",
      "Class Angry, Step 1400\n",
      "Class Angry, Step 1500\n",
      "Class Disgusted, Step 0\n",
      "Class Disgusted, Step 100\n",
      "Class Disgusted, Step 200\n",
      "Class Disgusted, Step 300\n",
      "Class Disgusted, Step 400\n",
      "Class Disgusted, Step 500\n",
      "Class Disgusted, Step 600\n",
      "Class Disgusted, Step 700\n",
      "Class Disgusted, Step 800\n",
      "Class Disgusted, Step 900\n",
      "Class Disgusted, Step 1000\n",
      "Class Disgusted, Step 1100\n",
      "Class Domination, Step 0\n",
      "Class Domination, Step 100\n",
      "Class Domination, Step 200\n",
      "Class Domination, Step 300\n",
      "Class Domination, Step 400\n",
      "Class Domination, Step 500\n",
      "Class Domination, Step 600\n",
      "Class Domination, Step 700\n",
      "Class Domination, Step 800\n",
      "Class Domination, Step 900\n",
      "Class Domination, Step 1000\n",
      "Class Domination, Step 1100\n",
      "Class Domination, Step 1200\n",
      "Class Domination, Step 1300\n",
      "Class Domination, Step 1400\n",
      "Class Domination, Step 1500\n",
      "Class Domination, Step 1600\n",
      "Class Domination, Step 1700\n",
      "Class Domination, Step 1800\n",
      "Class Domination, Step 1900\n",
      "Class Domination, Step 2000\n",
      "Class Domination, Step 2100\n",
      "Class Domination, Step 2200\n",
      "Class Domination, Step 2300\n",
      "Class Happy, Step 0\n",
      "Class Happy, Step 100\n",
      "Class Happy, Step 200\n",
      "Class Happy, Step 300\n",
      "Class Happy, Step 400\n",
      "Class Happy, Step 500\n",
      "Class Happy, Step 600\n",
      "Class Happy, Step 700\n",
      "Class Happy, Step 800\n",
      "Class Happy, Step 900\n",
      "Class Happy, Step 1000\n",
      "Class Happy, Step 1100\n",
      "Class Happy, Step 1200\n",
      "Class Happy, Step 1300\n",
      "Class Happy, Step 1400\n",
      "Class Happy, Step 1500\n",
      "Class Happy, Step 1600\n",
      "Class Happy, Step 1700\n",
      "Class Happy, Step 1800\n",
      "Class Happy, Step 1900\n",
      "Class Happy, Step 2000\n",
      "Class Happy, Step 2100\n",
      "Class Happy, Step 2200\n",
      "Class Happy, Step 2300\n",
      "Class Happy, Step 2400\n",
      "Class Happy, Step 2500\n",
      "Class Happy, Step 2600\n",
      "Class Neutral, Step 0\n",
      "Class Neutral, Step 100\n",
      "Class Neutral, Step 200\n",
      "Class Neutral, Step 300\n",
      "Class Neutral, Step 400\n",
      "Class Neutral, Step 500\n",
      "Class Neutral, Step 600\n",
      "Class Neutral, Step 700\n",
      "Class Neutral, Step 800\n",
      "Class Neutral, Step 900\n",
      "Class Neutral, Step 1000\n",
      "Class Neutral, Step 1100\n",
      "Class Neutral, Step 1200\n",
      "Class Sad, Step 0\n",
      "Class Sad, Step 100\n",
      "Class Sad, Step 200\n",
      "Class Sad, Step 300\n",
      "Class Sad, Step 400\n",
      "Class Sad, Step 500\n",
      "Class Sad, Step 600\n",
      "Class Sad, Step 700\n",
      "Class Sad, Step 800\n",
      "Class Sad, Step 900\n",
      "Class Sad, Step 1000\n",
      "Class Scared, Step 0\n",
      "Class Scared, Step 100\n",
      "Class Scared, Step 200\n",
      "Class Scared, Step 300\n",
      "Class Scared, Step 400\n",
      "Class Scared, Step 500\n",
      "Class Scared, Step 600\n",
      "Class Scared, Step 700\n",
      "Class Scared, Step 800\n",
      "Class Scared, Step 900\n",
      "Class Scared, Step 1000\n",
      "Class Scared, Step 1100\n",
      "Class Scared, Step 1200\n",
      "Class Scared, Step 1300\n",
      "Class Shame, Step 0\n",
      "Class Shame, Step 100\n",
      "Class Shame, Step 200\n",
      "Class Shame, Step 300\n",
      "Class Submission, Step 0\n",
      "Class Submission, Step 100\n",
      "Class Submission, Step 200\n",
      "Class Submission, Step 300\n",
      "Class Submission, Step 400\n",
      "Class Submission, Step 500\n",
      "Class Submission, Step 600\n",
      "Class Submission, Step 700\n",
      "Class Submission, Step 800\n",
      "Class Submission, Step 900\n",
      "Class Submission, Step 1000\n",
      "Class Submission, Step 1100\n",
      "Class Submission, Step 1200\n",
      "Class Submission, Step 1300\n",
      "Class Submission, Step 1400\n",
      "Class Submission, Step 1500\n",
      "Class Submission, Step 1600\n",
      "Class Submission, Step 1700\n",
      "Class Submission, Step 1800\n",
      "Class Submission, Step 1900\n",
      "Class Submission, Step 2000\n",
      "Class Submission, Step 2100\n",
      "Class Surprised, Step 0\n",
      "Class Surprised, Step 100\n",
      "Class Surprised, Step 200\n",
      "Class Surprised, Step 300\n",
      "Class Surprised, Step 400\n",
      "Class Surprised, Step 500\n",
      "Class Surprised, Step 600\n",
      "Class Surprised, Step 700\n",
      "Class Surprised, Step 800\n",
      "Class Surprised, Step 900\n",
      "Class Surprised, Step 1000\n",
      "Class Surprised, Step 1100\n",
      "Class Surprised, Step 1200\n",
      "Class Surprised, Step 1300\n",
      "Class Surprised, Step 1400\n",
      "Class Surprised, Step 1500\n",
      "Class Surprised, Step 1600\n",
      "Class Surprised, Step 1700\n",
      "Class Surprised, Step 1800\n",
      "Class Surprised, Step 1900\n",
      "Class Tiredness, Step 0\n",
      "Small files: 2886, Lost_files: 0, Errors: 10\n"
     ]
    }
   ],
   "source": [
    "ds = make_dataset(emotion_dict, 'Annotations_by_emotions', 'Audio')"
   ]
  },
  {
   "cell_type": "code",
   "execution_count": 53,
   "id": "bd2aeb18",
   "metadata": {},
   "outputs": [],
   "source": [
    "X = np.array([ds[i][0] for i in range(len(ds))])"
   ]
  },
  {
   "cell_type": "code",
   "execution_count": 55,
   "id": "5a2af61c",
   "metadata": {},
   "outputs": [
    {
     "data": {
      "text/plain": [
       "(12872, 40)"
      ]
     },
     "execution_count": 55,
     "metadata": {},
     "output_type": "execute_result"
    }
   ],
   "source": [
    "X.shape"
   ]
  },
  {
   "cell_type": "code",
   "execution_count": 56,
   "id": "441d2c3e",
   "metadata": {},
   "outputs": [],
   "source": [
    "y = np.array([ds[i][1] for i in range(len(ds))])"
   ]
  },
  {
   "cell_type": "code",
   "execution_count": 57,
   "id": "5f5d470a",
   "metadata": {},
   "outputs": [
    {
     "data": {
      "text/plain": [
       "(12872,)"
      ]
     },
     "execution_count": 57,
     "metadata": {},
     "output_type": "execute_result"
    }
   ],
   "source": [
    "y.shape"
   ]
  },
  {
   "cell_type": "code",
   "execution_count": 58,
   "id": "2ca3e70d",
   "metadata": {},
   "outputs": [],
   "source": [
    "y=np.array(pd.get_dummies(y))"
   ]
  },
  {
   "cell_type": "code",
   "execution_count": 60,
   "id": "61189eaf",
   "metadata": {},
   "outputs": [
    {
     "data": {
      "text/plain": [
       "(12872, 11)"
      ]
     },
     "execution_count": 60,
     "metadata": {},
     "output_type": "execute_result"
    }
   ],
   "source": [
    "y.shape"
   ]
  },
  {
   "cell_type": "code",
   "execution_count": 90,
   "id": "1e956cdc",
   "metadata": {},
   "outputs": [],
   "source": [
    "from sklearn.model_selection import train_test_split\n",
    "X_train,X_test,y_train,y_test=train_test_split(X,y,test_size=0.1,random_state=0)"
   ]
  },
  {
   "cell_type": "code",
   "execution_count": 44,
   "id": "c0e05ffd",
   "metadata": {},
   "outputs": [
    {
     "name": "stdout",
     "output_type": "stream",
     "text": [
      "INFO:tensorflow:Enabling eager execution\n",
      "INFO:tensorflow:Enabling v2 tensorshape\n",
      "INFO:tensorflow:Enabling resource variables\n",
      "INFO:tensorflow:Enabling tensor equality\n",
      "INFO:tensorflow:Enabling control flow v2\n"
     ]
    }
   ],
   "source": [
    "from tensorflow.keras.models import Sequential\n",
    "from tensorflow.keras.layers import Dense,Dropout,Activation,Flatten\n",
    "from tensorflow.keras.optimizers import Adam\n",
    "from sklearn import metrics\n",
    "from keras.layers.recurrent import LSTM"
   ]
  },
  {
   "cell_type": "code",
   "execution_count": 92,
   "id": "742ac10d",
   "metadata": {},
   "outputs": [],
   "source": [
    "num_labels=y.shape[1]"
   ]
  },
  {
   "cell_type": "markdown",
   "id": "c4d22596",
   "metadata": {},
   "source": [
    "### Модель"
   ]
  },
  {
   "cell_type": "code",
   "execution_count": 140,
   "id": "f9403334",
   "metadata": {},
   "outputs": [],
   "source": [
    "model=Sequential()\n",
    "###first layer\n",
    "model.add(Dense(100,input_shape=(40,)))\n",
    "model.add(Activation('relu'))\n",
    "model.add(Dropout(0.2))\n",
    "###second layer\n",
    "model.add(Dense(200))\n",
    "model.add(Activation('relu'))\n",
    "model.add(Dropout(0.2))\n",
    "###third layer\n",
    "model.add(Dense(100))\n",
    "model.add(Activation('relu'))\n",
    "model.add(Dropout(0.2))\n",
    "\n",
    "###final layer\n",
    "model.add(Dense(num_labels))\n",
    "model.add(Activation('softmax'))"
   ]
  },
  {
   "cell_type": "code",
   "execution_count": 141,
   "id": "05a48d5a",
   "metadata": {},
   "outputs": [],
   "source": [
    "opt = Adam(learning_rate=0.001)\n",
    "model.compile(loss=\"categorical_crossentropy\", optimizer=opt, metrics=[\"accuracy\", \"AUC\"])"
   ]
  },
  {
   "cell_type": "code",
   "execution_count": 142,
   "id": "02d0c501",
   "metadata": {},
   "outputs": [],
   "source": [
    "import tensorflow as tf"
   ]
  },
  {
   "cell_type": "code",
   "execution_count": 143,
   "id": "68d41e2d",
   "metadata": {},
   "outputs": [],
   "source": [
    "# model.compile(loss='mse',metrics=[tf.keras.metrics.AUC()], optimizer='adam')"
   ]
  },
  {
   "cell_type": "code",
   "execution_count": 146,
   "id": "b7a07979",
   "metadata": {},
   "outputs": [
    {
     "name": "stdout",
     "output_type": "stream",
     "text": [
      "Epoch 1/200\n",
      "362/362 [==============================] - 1s 3ms/step - loss: 1.5439 - accuracy: 0.4169 - auc: 0.8763 - val_loss: 1.6884 - val_accuracy: 0.3991 - val_auc: 0.8542\n",
      "\n",
      "Epoch 00001: val_loss improved from inf to 1.68835, saving model to saved_models\\audio_classification.hdf5\n",
      "Epoch 2/200\n",
      "362/362 [==============================] - 1s 3ms/step - loss: 1.5328 - accuracy: 0.4298 - auc: 0.8785 - val_loss: 1.6765 - val_accuracy: 0.3936 - val_auc: 0.8569\n",
      "\n",
      "Epoch 00002: val_loss improved from 1.68835 to 1.67651, saving model to saved_models\\audio_classification.hdf5\n",
      "Epoch 3/200\n",
      "362/362 [==============================] - 1s 2ms/step - loss: 1.5354 - accuracy: 0.4283 - auc: 0.8781 - val_loss: 1.6592 - val_accuracy: 0.3983 - val_auc: 0.8595\n",
      "\n",
      "Epoch 00003: val_loss improved from 1.67651 to 1.65924, saving model to saved_models\\audio_classification.hdf5\n",
      "Epoch 4/200\n",
      "362/362 [==============================] - 1s 2ms/step - loss: 1.5459 - accuracy: 0.4249 - auc: 0.8762 - val_loss: 1.6825 - val_accuracy: 0.4014 - val_auc: 0.8550\n",
      "\n",
      "Epoch 00004: val_loss did not improve from 1.65924\n",
      "Epoch 5/200\n",
      "362/362 [==============================] - 1s 2ms/step - loss: 1.5328 - accuracy: 0.4252 - auc: 0.8780 - val_loss: 1.6977 - val_accuracy: 0.3921 - val_auc: 0.8532\n",
      "\n",
      "Epoch 00005: val_loss did not improve from 1.65924\n",
      "Epoch 6/200\n",
      "362/362 [==============================] - 1s 2ms/step - loss: 1.5501 - accuracy: 0.4227 - auc: 0.8752 - val_loss: 1.6772 - val_accuracy: 0.3866 - val_auc: 0.8569\n",
      "\n",
      "Epoch 00006: val_loss did not improve from 1.65924\n",
      "Epoch 7/200\n",
      "362/362 [==============================] - 1s 2ms/step - loss: 1.5437 - accuracy: 0.4260 - auc: 0.8763 - val_loss: 1.6671 - val_accuracy: 0.3843 - val_auc: 0.8584\n",
      "\n",
      "Epoch 00007: val_loss did not improve from 1.65924\n",
      "Epoch 8/200\n",
      "362/362 [==============================] - 1s 2ms/step - loss: 1.5438 - accuracy: 0.4223 - auc: 0.8762 - val_loss: 1.6814 - val_accuracy: 0.3936 - val_auc: 0.8550\n",
      "\n",
      "Epoch 00008: val_loss did not improve from 1.65924\n",
      "Epoch 9/200\n",
      "362/362 [==============================] - 1s 2ms/step - loss: 1.5374 - accuracy: 0.4257 - auc: 0.8770 - val_loss: 1.6924 - val_accuracy: 0.3804 - val_auc: 0.8553\n",
      "\n",
      "Epoch 00009: val_loss did not improve from 1.65924\n",
      "Epoch 10/200\n",
      "362/362 [==============================] - 1s 2ms/step - loss: 1.5389 - accuracy: 0.4310 - auc: 0.8770 - val_loss: 1.6776 - val_accuracy: 0.3952 - val_auc: 0.8576\n",
      "\n",
      "Epoch 00010: val_loss did not improve from 1.65924\n",
      "Epoch 11/200\n",
      "362/362 [==============================] - 1s 2ms/step - loss: 1.5311 - accuracy: 0.4345 - auc: 0.8787 - val_loss: 1.6849 - val_accuracy: 0.3820 - val_auc: 0.8547\n",
      "\n",
      "Epoch 00011: val_loss did not improve from 1.65924\n",
      "Epoch 12/200\n",
      "362/362 [==============================] - 1s 2ms/step - loss: 1.5298 - accuracy: 0.4274 - auc: 0.8787 - val_loss: 1.6875 - val_accuracy: 0.3874 - val_auc: 0.8549\n",
      "\n",
      "Epoch 00012: val_loss did not improve from 1.65924\n",
      "Epoch 13/200\n",
      "362/362 [==============================] - 1s 2ms/step - loss: 1.5267 - accuracy: 0.4333 - auc: 0.8792 - val_loss: 1.6912 - val_accuracy: 0.4030 - val_auc: 0.8553\n",
      "\n",
      "Epoch 00013: val_loss did not improve from 1.65924\n",
      "Epoch 14/200\n",
      "362/362 [==============================] - 1s 2ms/step - loss: 1.5292 - accuracy: 0.4230 - auc: 0.8791 - val_loss: 1.6923 - val_accuracy: 0.3866 - val_auc: 0.8565\n",
      "\n",
      "Epoch 00014: val_loss did not improve from 1.65924\n",
      "Epoch 15/200\n",
      "362/362 [==============================] - 1s 2ms/step - loss: 1.5364 - accuracy: 0.4338 - auc: 0.8774 - val_loss: 1.6789 - val_accuracy: 0.3866 - val_auc: 0.8569\n",
      "\n",
      "Epoch 00015: val_loss did not improve from 1.65924\n",
      "Epoch 16/200\n",
      "362/362 [==============================] - 1s 2ms/step - loss: 1.5358 - accuracy: 0.4283 - auc: 0.8776 - val_loss: 1.6803 - val_accuracy: 0.3905 - val_auc: 0.8590\n",
      "\n",
      "Epoch 00016: val_loss did not improve from 1.65924\n",
      "Epoch 17/200\n",
      "362/362 [==============================] - 1s 2ms/step - loss: 1.5250 - accuracy: 0.4336 - auc: 0.8793 - val_loss: 1.6674 - val_accuracy: 0.3898 - val_auc: 0.8595\n",
      "\n",
      "Epoch 00017: val_loss did not improve from 1.65924\n",
      "Epoch 18/200\n",
      "362/362 [==============================] - 1s 2ms/step - loss: 1.5223 - accuracy: 0.4302 - auc: 0.8803 - val_loss: 1.6823 - val_accuracy: 0.3960 - val_auc: 0.8557\n",
      "\n",
      "Epoch 00018: val_loss did not improve from 1.65924\n",
      "Epoch 19/200\n",
      "362/362 [==============================] - 1s 2ms/step - loss: 1.5301 - accuracy: 0.4279 - auc: 0.8789 - val_loss: 1.6740 - val_accuracy: 0.3936 - val_auc: 0.8567\n",
      "\n",
      "Epoch 00019: val_loss did not improve from 1.65924\n",
      "Epoch 20/200\n",
      "362/362 [==============================] - 1s 2ms/step - loss: 1.5292 - accuracy: 0.4298 - auc: 0.8787 - val_loss: 1.6959 - val_accuracy: 0.3820 - val_auc: 0.8526\n",
      "\n",
      "Epoch 00020: val_loss did not improve from 1.65924\n",
      "Epoch 21/200\n",
      "362/362 [==============================] - 1s 2ms/step - loss: 1.5265 - accuracy: 0.4277 - auc: 0.8793 - val_loss: 1.6647 - val_accuracy: 0.3913 - val_auc: 0.8588\n",
      "\n",
      "Epoch 00021: val_loss did not improve from 1.65924\n",
      "Epoch 22/200\n",
      "362/362 [==============================] - 1s 2ms/step - loss: 1.5285 - accuracy: 0.4300 - auc: 0.8789 - val_loss: 1.6775 - val_accuracy: 0.3898 - val_auc: 0.8571\n",
      "\n",
      "Epoch 00022: val_loss did not improve from 1.65924\n",
      "Epoch 23/200\n",
      "362/362 [==============================] - 1s 2ms/step - loss: 1.5312 - accuracy: 0.4313 - auc: 0.8786 - val_loss: 1.6574 - val_accuracy: 0.3998 - val_auc: 0.8605\n",
      "\n",
      "Epoch 00023: val_loss improved from 1.65924 to 1.65735, saving model to saved_models\\audio_classification.hdf5\n",
      "Epoch 24/200\n",
      "362/362 [==============================] - 1s 2ms/step - loss: 1.5194 - accuracy: 0.4347 - auc: 0.8802 - val_loss: 1.6815 - val_accuracy: 0.3859 - val_auc: 0.8540\n",
      "\n",
      "Epoch 00024: val_loss did not improve from 1.65735\n",
      "Epoch 25/200\n",
      "362/362 [==============================] - 1s 2ms/step - loss: 1.5309 - accuracy: 0.4346 - auc: 0.8789 - val_loss: 1.6477 - val_accuracy: 0.4068 - val_auc: 0.8622\n",
      "\n",
      "Epoch 00025: val_loss improved from 1.65735 to 1.64768, saving model to saved_models\\audio_classification.hdf5\n",
      "Epoch 26/200\n",
      "362/362 [==============================] - 1s 2ms/step - loss: 1.5351 - accuracy: 0.4289 - auc: 0.8776 - val_loss: 1.6621 - val_accuracy: 0.4146 - val_auc: 0.8602\n",
      "\n",
      "Epoch 00026: val_loss did not improve from 1.64768\n",
      "Epoch 27/200\n",
      "362/362 [==============================] - 1s 2ms/step - loss: 1.5217 - accuracy: 0.4292 - auc: 0.8797 - val_loss: 1.6910 - val_accuracy: 0.3804 - val_auc: 0.8553\n",
      "\n",
      "Epoch 00027: val_loss did not improve from 1.64768\n",
      "Epoch 28/200\n",
      "362/362 [==============================] - 1s 2ms/step - loss: 1.5275 - accuracy: 0.4351 - auc: 0.8790 - val_loss: 1.6653 - val_accuracy: 0.4022 - val_auc: 0.8592\n",
      "\n",
      "Epoch 00028: val_loss did not improve from 1.64768\n",
      "Epoch 29/200\n",
      "362/362 [==============================] - 1s 2ms/step - loss: 1.5305 - accuracy: 0.4251 - auc: 0.8788 - val_loss: 1.6840 - val_accuracy: 0.3975 - val_auc: 0.8555\n",
      "\n",
      "Epoch 00029: val_loss did not improve from 1.64768\n",
      "Epoch 30/200\n",
      "362/362 [==============================] - 1s 2ms/step - loss: 1.5173 - accuracy: 0.4311 - auc: 0.8806 - val_loss: 1.6957 - val_accuracy: 0.3866 - val_auc: 0.8552\n",
      "\n",
      "Epoch 00030: val_loss did not improve from 1.64768\n",
      "Epoch 31/200\n",
      "362/362 [==============================] - 1s 2ms/step - loss: 1.5336 - accuracy: 0.4207 - auc: 0.8781 - val_loss: 1.6816 - val_accuracy: 0.3913 - val_auc: 0.8540\n",
      "\n",
      "Epoch 00031: val_loss did not improve from 1.64768\n",
      "Epoch 32/200\n",
      "362/362 [==============================] - 1s 2ms/step - loss: 1.5176 - accuracy: 0.4296 - auc: 0.8808 - val_loss: 1.6909 - val_accuracy: 0.3843 - val_auc: 0.8543\n",
      "\n",
      "Epoch 00032: val_loss did not improve from 1.64768\n",
      "Epoch 33/200\n",
      "362/362 [==============================] - 1s 2ms/step - loss: 1.5273 - accuracy: 0.4342 - auc: 0.8792 - val_loss: 1.6689 - val_accuracy: 0.4107 - val_auc: 0.8576\n",
      "\n",
      "Epoch 00033: val_loss did not improve from 1.64768\n",
      "Epoch 34/200\n",
      "362/362 [==============================] - 1s 2ms/step - loss: 1.5248 - accuracy: 0.4274 - auc: 0.8796 - val_loss: 1.6807 - val_accuracy: 0.3913 - val_auc: 0.8554\n",
      "\n",
      "Epoch 00034: val_loss did not improve from 1.64768\n",
      "Epoch 35/200\n",
      "362/362 [==============================] - 1s 2ms/step - loss: 1.5163 - accuracy: 0.4342 - auc: 0.8813 - val_loss: 1.6798 - val_accuracy: 0.3913 - val_auc: 0.8564\n"
     ]
    },
    {
     "name": "stdout",
     "output_type": "stream",
     "text": [
      "\n",
      "Epoch 00035: val_loss did not improve from 1.64768\n",
      "Epoch 36/200\n",
      "362/362 [==============================] - 1s 2ms/step - loss: 1.5245 - accuracy: 0.4318 - auc: 0.8797 - val_loss: 1.6765 - val_accuracy: 0.3952 - val_auc: 0.8567\n",
      "\n",
      "Epoch 00036: val_loss did not improve from 1.64768\n",
      "Epoch 37/200\n",
      "362/362 [==============================] - 1s 2ms/step - loss: 1.5106 - accuracy: 0.4370 - auc: 0.8822 - val_loss: 1.7019 - val_accuracy: 0.3905 - val_auc: 0.8542\n",
      "\n",
      "Epoch 00037: val_loss did not improve from 1.64768\n",
      "Epoch 38/200\n",
      "362/362 [==============================] - 1s 2ms/step - loss: 1.5180 - accuracy: 0.4344 - auc: 0.8805 - val_loss: 1.6815 - val_accuracy: 0.3898 - val_auc: 0.8565\n",
      "\n",
      "Epoch 00038: val_loss did not improve from 1.64768\n",
      "Epoch 39/200\n",
      "362/362 [==============================] - 1s 2ms/step - loss: 1.5139 - accuracy: 0.4384 - auc: 0.8811 - val_loss: 1.6687 - val_accuracy: 0.4006 - val_auc: 0.8595\n",
      "\n",
      "Epoch 00039: val_loss did not improve from 1.64768\n",
      "Epoch 40/200\n",
      "362/362 [==============================] - 1s 2ms/step - loss: 1.5078 - accuracy: 0.4313 - auc: 0.8824 - val_loss: 1.6739 - val_accuracy: 0.3944 - val_auc: 0.8573\n",
      "\n",
      "Epoch 00040: val_loss did not improve from 1.64768\n",
      "Epoch 41/200\n",
      "362/362 [==============================] - 1s 2ms/step - loss: 1.5063 - accuracy: 0.4365 - auc: 0.8830 - val_loss: 1.6869 - val_accuracy: 0.3967 - val_auc: 0.8564\n",
      "\n",
      "Epoch 00041: val_loss did not improve from 1.64768\n",
      "Epoch 42/200\n",
      "362/362 [==============================] - 1s 2ms/step - loss: 1.5049 - accuracy: 0.4392 - auc: 0.8833 - val_loss: 1.6792 - val_accuracy: 0.3835 - val_auc: 0.8568\n",
      "\n",
      "Epoch 00042: val_loss did not improve from 1.64768\n",
      "Epoch 43/200\n",
      "362/362 [==============================] - 1s 2ms/step - loss: 1.5302 - accuracy: 0.4341 - auc: 0.8789 - val_loss: 1.6713 - val_accuracy: 0.4006 - val_auc: 0.8581\n",
      "\n",
      "Epoch 00043: val_loss did not improve from 1.64768\n",
      "Epoch 44/200\n",
      "362/362 [==============================] - 1s 2ms/step - loss: 1.5194 - accuracy: 0.4316 - auc: 0.8805 - val_loss: 1.6688 - val_accuracy: 0.3998 - val_auc: 0.8604\n",
      "\n",
      "Epoch 00044: val_loss did not improve from 1.64768\n",
      "Epoch 45/200\n",
      "362/362 [==============================] - 1s 2ms/step - loss: 1.5057 - accuracy: 0.4358 - auc: 0.8828 - val_loss: 1.6904 - val_accuracy: 0.3804 - val_auc: 0.8550\n",
      "\n",
      "Epoch 00045: val_loss did not improve from 1.64768\n",
      "Epoch 46/200\n",
      "362/362 [==============================] - 1s 2ms/step - loss: 1.5149 - accuracy: 0.4334 - auc: 0.8810 - val_loss: 1.6803 - val_accuracy: 0.4014 - val_auc: 0.8574\n",
      "\n",
      "Epoch 00046: val_loss did not improve from 1.64768\n",
      "Epoch 47/200\n",
      "362/362 [==============================] - 1s 2ms/step - loss: 1.5233 - accuracy: 0.4365 - auc: 0.8796 - val_loss: 1.6742 - val_accuracy: 0.3975 - val_auc: 0.8569\n",
      "\n",
      "Epoch 00047: val_loss did not improve from 1.64768\n",
      "Epoch 48/200\n",
      "362/362 [==============================] - 1s 2ms/step - loss: 1.5146 - accuracy: 0.4372 - auc: 0.8813 - val_loss: 1.6766 - val_accuracy: 0.3921 - val_auc: 0.8566\n",
      "\n",
      "Epoch 00048: val_loss did not improve from 1.64768\n",
      "Epoch 49/200\n",
      "362/362 [==============================] - 1s 2ms/step - loss: 1.5106 - accuracy: 0.4375 - auc: 0.8820 - val_loss: 1.6812 - val_accuracy: 0.4045 - val_auc: 0.8577\n",
      "\n",
      "Epoch 00049: val_loss did not improve from 1.64768\n",
      "Epoch 50/200\n",
      "362/362 [==============================] - 1s 2ms/step - loss: 1.5177 - accuracy: 0.4319 - auc: 0.8809 - val_loss: 1.6789 - val_accuracy: 0.3967 - val_auc: 0.8560\n",
      "\n",
      "Epoch 00050: val_loss did not improve from 1.64768\n",
      "Epoch 51/200\n",
      "362/362 [==============================] - 1s 2ms/step - loss: 1.5173 - accuracy: 0.4310 - auc: 0.8808 - val_loss: 1.6681 - val_accuracy: 0.3944 - val_auc: 0.8604\n",
      "\n",
      "Epoch 00051: val_loss did not improve from 1.64768\n",
      "Epoch 52/200\n",
      "362/362 [==============================] - 1s 2ms/step - loss: 1.5175 - accuracy: 0.4359 - auc: 0.8809 - val_loss: 1.6704 - val_accuracy: 0.3983 - val_auc: 0.8572\n",
      "\n",
      "Epoch 00052: val_loss did not improve from 1.64768\n",
      "Epoch 53/200\n",
      "362/362 [==============================] - 1s 2ms/step - loss: 1.5125 - accuracy: 0.4372 - auc: 0.8815 - val_loss: 1.6663 - val_accuracy: 0.4014 - val_auc: 0.8594\n",
      "\n",
      "Epoch 00053: val_loss did not improve from 1.64768\n",
      "Epoch 54/200\n",
      "362/362 [==============================] - 1s 2ms/step - loss: 1.5001 - accuracy: 0.4406 - auc: 0.8839 - val_loss: 1.6849 - val_accuracy: 0.4061 - val_auc: 0.8557\n",
      "\n",
      "Epoch 00054: val_loss did not improve from 1.64768\n",
      "Epoch 55/200\n",
      "362/362 [==============================] - 1s 2ms/step - loss: 1.5087 - accuracy: 0.4322 - auc: 0.8823 - val_loss: 1.6818 - val_accuracy: 0.3797 - val_auc: 0.8559\n",
      "\n",
      "Epoch 00055: val_loss did not improve from 1.64768\n",
      "Epoch 56/200\n",
      "362/362 [==============================] - 1s 2ms/step - loss: 1.5171 - accuracy: 0.4350 - auc: 0.8810 - val_loss: 1.6703 - val_accuracy: 0.3929 - val_auc: 0.8575\n",
      "\n",
      "Epoch 00056: val_loss did not improve from 1.64768\n",
      "Epoch 57/200\n",
      "362/362 [==============================] - 1s 2ms/step - loss: 1.5121 - accuracy: 0.4347 - auc: 0.8816 - val_loss: 1.6836 - val_accuracy: 0.3789 - val_auc: 0.8576\n",
      "\n",
      "Epoch 00057: val_loss did not improve from 1.64768\n",
      "Epoch 58/200\n",
      "362/362 [==============================] - 1s 2ms/step - loss: 1.5147 - accuracy: 0.4338 - auc: 0.8806 - val_loss: 1.6954 - val_accuracy: 0.3944 - val_auc: 0.8549\n",
      "\n",
      "Epoch 00058: val_loss did not improve from 1.64768\n",
      "Epoch 59/200\n",
      "362/362 [==============================] - 1s 2ms/step - loss: 1.5220 - accuracy: 0.4302 - auc: 0.8797 - val_loss: 1.7069 - val_accuracy: 0.3929 - val_auc: 0.8537\n",
      "\n",
      "Epoch 00059: val_loss did not improve from 1.64768\n",
      "Epoch 60/200\n",
      "362/362 [==============================] - 1s 2ms/step - loss: 1.5174 - accuracy: 0.4283 - auc: 0.8810 - val_loss: 1.6811 - val_accuracy: 0.3967 - val_auc: 0.8565\n",
      "\n",
      "Epoch 00060: val_loss did not improve from 1.64768\n",
      "Epoch 61/200\n",
      "362/362 [==============================] - 1s 2ms/step - loss: 1.4936 - accuracy: 0.4393 - auc: 0.8848 - val_loss: 1.6891 - val_accuracy: 0.3952 - val_auc: 0.8548\n",
      "\n",
      "Epoch 00061: val_loss did not improve from 1.64768\n",
      "Epoch 62/200\n",
      "362/362 [==============================] - 1s 2ms/step - loss: 1.5138 - accuracy: 0.4308 - auc: 0.8818 - val_loss: 1.6968 - val_accuracy: 0.3828 - val_auc: 0.8529\n",
      "\n",
      "Epoch 00062: val_loss did not improve from 1.64768\n",
      "Epoch 63/200\n",
      "362/362 [==============================] - 1s 2ms/step - loss: 1.5055 - accuracy: 0.4373 - auc: 0.8828 - val_loss: 1.6929 - val_accuracy: 0.3750 - val_auc: 0.8550\n",
      "\n",
      "Epoch 00063: val_loss did not improve from 1.64768\n",
      "Epoch 64/200\n",
      "362/362 [==============================] - 1s 2ms/step - loss: 1.5074 - accuracy: 0.4336 - auc: 0.8825 - val_loss: 1.7069 - val_accuracy: 0.3905 - val_auc: 0.8538\n",
      "\n",
      "Epoch 00064: val_loss did not improve from 1.64768\n",
      "Epoch 65/200\n",
      "362/362 [==============================] - 1s 2ms/step - loss: 1.5060 - accuracy: 0.4345 - auc: 0.8825 - val_loss: 1.6814 - val_accuracy: 0.3913 - val_auc: 0.8574\n",
      "\n",
      "Epoch 00065: val_loss did not improve from 1.64768\n",
      "Epoch 66/200\n",
      "362/362 [==============================] - 1s 2ms/step - loss: 1.4996 - accuracy: 0.4389 - auc: 0.8838 - val_loss: 1.6858 - val_accuracy: 0.3944 - val_auc: 0.8560\n",
      "\n",
      "Epoch 00066: val_loss did not improve from 1.64768\n",
      "Epoch 67/200\n",
      "362/362 [==============================] - 1s 2ms/step - loss: 1.5099 - accuracy: 0.4322 - auc: 0.8817 - val_loss: 1.6876 - val_accuracy: 0.3967 - val_auc: 0.8566\n",
      "\n",
      "Epoch 00067: val_loss did not improve from 1.64768\n",
      "Epoch 68/200\n",
      "362/362 [==============================] - 1s 2ms/step - loss: 1.5104 - accuracy: 0.4306 - auc: 0.8824 - val_loss: 1.6835 - val_accuracy: 0.3936 - val_auc: 0.8565\n",
      "\n",
      "Epoch 00068: val_loss did not improve from 1.64768\n",
      "Epoch 69/200\n",
      "362/362 [==============================] - 1s 2ms/step - loss: 1.5030 - accuracy: 0.4409 - auc: 0.8833 - val_loss: 1.6865 - val_accuracy: 0.3921 - val_auc: 0.8569\n",
      "\n",
      "Epoch 00069: val_loss did not improve from 1.64768\n",
      "Epoch 70/200\n",
      "362/362 [==============================] - 1s 2ms/step - loss: 1.4997 - accuracy: 0.4410 - auc: 0.8838 - val_loss: 1.6677 - val_accuracy: 0.4099 - val_auc: 0.8587\n",
      "\n",
      "Epoch 00070: val_loss did not improve from 1.64768\n",
      "Epoch 71/200\n",
      "362/362 [==============================] - 1s 2ms/step - loss: 1.5093 - accuracy: 0.4345 - auc: 0.8826 - val_loss: 1.6740 - val_accuracy: 0.3967 - val_auc: 0.8583\n"
     ]
    },
    {
     "name": "stdout",
     "output_type": "stream",
     "text": [
      "\n",
      "Epoch 00071: val_loss did not improve from 1.64768\n",
      "Epoch 72/200\n",
      "362/362 [==============================] - 1s 2ms/step - loss: 1.5080 - accuracy: 0.4355 - auc: 0.8824 - val_loss: 1.6913 - val_accuracy: 0.3866 - val_auc: 0.8556\n",
      "\n",
      "Epoch 00072: val_loss did not improve from 1.64768\n",
      "Epoch 73/200\n",
      "362/362 [==============================] - 1s 2ms/step - loss: 1.5150 - accuracy: 0.4359 - auc: 0.8815 - val_loss: 1.6960 - val_accuracy: 0.3921 - val_auc: 0.8535\n",
      "\n",
      "Epoch 00073: val_loss did not improve from 1.64768\n",
      "Epoch 74/200\n",
      "362/362 [==============================] - 1s 2ms/step - loss: 1.5019 - accuracy: 0.4424 - auc: 0.8837 - val_loss: 1.6856 - val_accuracy: 0.3936 - val_auc: 0.8563\n",
      "\n",
      "Epoch 00074: val_loss did not improve from 1.64768\n",
      "Epoch 75/200\n",
      "362/362 [==============================] - 1s 2ms/step - loss: 1.5077 - accuracy: 0.4391 - auc: 0.8826 - val_loss: 1.6639 - val_accuracy: 0.3998 - val_auc: 0.8599\n",
      "\n",
      "Epoch 00075: val_loss did not improve from 1.64768\n",
      "Epoch 76/200\n",
      "362/362 [==============================] - 1s 2ms/step - loss: 1.5076 - accuracy: 0.4339 - auc: 0.8823 - val_loss: 1.6618 - val_accuracy: 0.4084 - val_auc: 0.8597\n",
      "\n",
      "Epoch 00076: val_loss did not improve from 1.64768\n",
      "Epoch 77/200\n",
      "362/362 [==============================] - 1s 2ms/step - loss: 1.5008 - accuracy: 0.4360 - auc: 0.8842 - val_loss: 1.7002 - val_accuracy: 0.3812 - val_auc: 0.8531\n",
      "\n",
      "Epoch 00077: val_loss did not improve from 1.64768\n",
      "Epoch 78/200\n",
      "362/362 [==============================] - 1s 2ms/step - loss: 1.5130 - accuracy: 0.4322 - auc: 0.8818 - val_loss: 1.6718 - val_accuracy: 0.4076 - val_auc: 0.8576\n",
      "\n",
      "Epoch 00078: val_loss did not improve from 1.64768\n",
      "Epoch 79/200\n",
      "362/362 [==============================] - 1s 2ms/step - loss: 1.4953 - accuracy: 0.4384 - auc: 0.8845 - val_loss: 1.6796 - val_accuracy: 0.3843 - val_auc: 0.8567\n",
      "\n",
      "Epoch 00079: val_loss did not improve from 1.64768\n",
      "Epoch 80/200\n",
      "362/362 [==============================] - 1s 2ms/step - loss: 1.5013 - accuracy: 0.4408 - auc: 0.8832 - val_loss: 1.6864 - val_accuracy: 0.3859 - val_auc: 0.8543\n",
      "\n",
      "Epoch 00080: val_loss did not improve from 1.64768\n",
      "Epoch 81/200\n",
      "362/362 [==============================] - 1s 2ms/step - loss: 1.4797 - accuracy: 0.4457 - auc: 0.8873 - val_loss: 1.6921 - val_accuracy: 0.3688 - val_auc: 0.8539\n",
      "\n",
      "Epoch 00081: val_loss did not improve from 1.64768\n",
      "Epoch 82/200\n",
      "362/362 [==============================] - 1s 2ms/step - loss: 1.5099 - accuracy: 0.4384 - auc: 0.8819 - val_loss: 1.6923 - val_accuracy: 0.3890 - val_auc: 0.8538\n",
      "\n",
      "Epoch 00082: val_loss did not improve from 1.64768\n",
      "Epoch 83/200\n",
      "362/362 [==============================] - 1s 2ms/step - loss: 1.5037 - accuracy: 0.4387 - auc: 0.8832 - val_loss: 1.6941 - val_accuracy: 0.3812 - val_auc: 0.8552\n",
      "\n",
      "Epoch 00083: val_loss did not improve from 1.64768\n",
      "Epoch 84/200\n",
      "362/362 [==============================] - 1s 2ms/step - loss: 1.4845 - accuracy: 0.4447 - auc: 0.8867 - val_loss: 1.6831 - val_accuracy: 0.3983 - val_auc: 0.8564\n",
      "\n",
      "Epoch 00084: val_loss did not improve from 1.64768\n",
      "Epoch 85/200\n",
      "362/362 [==============================] - 1s 2ms/step - loss: 1.4940 - accuracy: 0.4454 - auc: 0.8851 - val_loss: 1.6768 - val_accuracy: 0.3983 - val_auc: 0.8580\n",
      "\n",
      "Epoch 00085: val_loss did not improve from 1.64768\n",
      "Epoch 86/200\n",
      "362/362 [==============================] - 1s 2ms/step - loss: 1.5038 - accuracy: 0.4373 - auc: 0.8830 - val_loss: 1.6780 - val_accuracy: 0.4053 - val_auc: 0.8580\n",
      "\n",
      "Epoch 00086: val_loss did not improve from 1.64768\n",
      "Epoch 87/200\n",
      "362/362 [==============================] - 1s 2ms/step - loss: 1.4790 - accuracy: 0.4440 - auc: 0.8871 - val_loss: 1.6895 - val_accuracy: 0.3898 - val_auc: 0.8555\n",
      "\n",
      "Epoch 00087: val_loss did not improve from 1.64768\n",
      "Epoch 88/200\n",
      "362/362 [==============================] - 1s 2ms/step - loss: 1.4887 - accuracy: 0.4422 - auc: 0.8852 - val_loss: 1.6791 - val_accuracy: 0.4045 - val_auc: 0.8573\n",
      "\n",
      "Epoch 00088: val_loss did not improve from 1.64768\n",
      "Epoch 89/200\n",
      "362/362 [==============================] - 1s 2ms/step - loss: 1.4994 - accuracy: 0.4387 - auc: 0.8841 - val_loss: 1.6726 - val_accuracy: 0.3960 - val_auc: 0.8586\n",
      "\n",
      "Epoch 00089: val_loss did not improve from 1.64768\n",
      "Epoch 90/200\n",
      "362/362 [==============================] - 1s 2ms/step - loss: 1.4956 - accuracy: 0.4410 - auc: 0.8842 - val_loss: 1.6883 - val_accuracy: 0.4030 - val_auc: 0.8555\n",
      "\n",
      "Epoch 00090: val_loss did not improve from 1.64768\n",
      "Epoch 91/200\n",
      "362/362 [==============================] - 1s 2ms/step - loss: 1.4906 - accuracy: 0.4450 - auc: 0.8855 - val_loss: 1.6741 - val_accuracy: 0.3967 - val_auc: 0.8580\n",
      "\n",
      "Epoch 00091: val_loss did not improve from 1.64768\n",
      "Epoch 92/200\n",
      "362/362 [==============================] - 1s 2ms/step - loss: 1.5023 - accuracy: 0.4383 - auc: 0.8833 - val_loss: 1.7128 - val_accuracy: 0.3890 - val_auc: 0.8507\n",
      "\n",
      "Epoch 00092: val_loss did not improve from 1.64768\n",
      "Epoch 93/200\n",
      "362/362 [==============================] - 1s 2ms/step - loss: 1.4923 - accuracy: 0.4412 - auc: 0.8855 - val_loss: 1.6915 - val_accuracy: 0.3921 - val_auc: 0.8544\n",
      "\n",
      "Epoch 00093: val_loss did not improve from 1.64768\n",
      "Epoch 94/200\n",
      "362/362 [==============================] - 1s 2ms/step - loss: 1.4903 - accuracy: 0.4448 - auc: 0.8854 - val_loss: 1.6915 - val_accuracy: 0.3929 - val_auc: 0.8561\n",
      "\n",
      "Epoch 00094: val_loss did not improve from 1.64768\n",
      "Epoch 95/200\n",
      "362/362 [==============================] - 1s 2ms/step - loss: 1.4965 - accuracy: 0.4445 - auc: 0.8842 - val_loss: 1.6795 - val_accuracy: 0.3898 - val_auc: 0.8558\n",
      "\n",
      "Epoch 00095: val_loss did not improve from 1.64768\n",
      "Epoch 96/200\n",
      "362/362 [==============================] - 1s 2ms/step - loss: 1.5000 - accuracy: 0.4358 - auc: 0.8845 - val_loss: 1.6894 - val_accuracy: 0.3991 - val_auc: 0.8556\n",
      "\n",
      "Epoch 00096: val_loss did not improve from 1.64768\n",
      "Epoch 97/200\n",
      "362/362 [==============================] - 1s 2ms/step - loss: 1.4817 - accuracy: 0.4467 - auc: 0.8866 - val_loss: 1.6905 - val_accuracy: 0.3898 - val_auc: 0.8558\n",
      "\n",
      "Epoch 00097: val_loss did not improve from 1.64768\n",
      "Epoch 98/200\n",
      "362/362 [==============================] - 1s 2ms/step - loss: 1.5065 - accuracy: 0.4398 - auc: 0.8832 - val_loss: 1.6895 - val_accuracy: 0.4014 - val_auc: 0.8561\n",
      "\n",
      "Epoch 00098: val_loss did not improve from 1.64768\n",
      "Epoch 99/200\n",
      "362/362 [==============================] - 1s 2ms/step - loss: 1.4861 - accuracy: 0.4410 - auc: 0.8865 - val_loss: 1.6762 - val_accuracy: 0.4006 - val_auc: 0.8583\n",
      "\n",
      "Epoch 00099: val_loss did not improve from 1.64768\n",
      "Epoch 100/200\n",
      "362/362 [==============================] - 1s 2ms/step - loss: 1.5034 - accuracy: 0.4361 - auc: 0.8830 - val_loss: 1.6720 - val_accuracy: 0.4084 - val_auc: 0.8597\n",
      "\n",
      "Epoch 00100: val_loss did not improve from 1.64768\n",
      "Epoch 101/200\n",
      "362/362 [==============================] - 1s 2ms/step - loss: 1.4820 - accuracy: 0.4488 - auc: 0.8866 - val_loss: 1.6754 - val_accuracy: 0.3882 - val_auc: 0.8566\n",
      "\n",
      "Epoch 00101: val_loss did not improve from 1.64768\n",
      "Epoch 102/200\n",
      "362/362 [==============================] - 1s 2ms/step - loss: 1.4978 - accuracy: 0.4381 - auc: 0.8845 - val_loss: 1.6930 - val_accuracy: 0.3998 - val_auc: 0.8542\n",
      "\n",
      "Epoch 00102: val_loss did not improve from 1.64768\n",
      "Epoch 103/200\n",
      "362/362 [==============================] - 1s 2ms/step - loss: 1.4846 - accuracy: 0.4422 - auc: 0.8862 - val_loss: 1.6778 - val_accuracy: 0.4014 - val_auc: 0.8587\n",
      "\n",
      "Epoch 00103: val_loss did not improve from 1.64768\n",
      "Epoch 104/200\n",
      "362/362 [==============================] - 1s 2ms/step - loss: 1.4793 - accuracy: 0.4443 - auc: 0.8870 - val_loss: 1.6899 - val_accuracy: 0.3952 - val_auc: 0.8546\n",
      "\n",
      "Epoch 00104: val_loss did not improve from 1.64768\n",
      "Epoch 105/200\n",
      "362/362 [==============================] - 1s 2ms/step - loss: 1.4925 - accuracy: 0.4411 - auc: 0.8851 - val_loss: 1.6555 - val_accuracy: 0.4053 - val_auc: 0.8619\n",
      "\n",
      "Epoch 00105: val_loss did not improve from 1.64768\n",
      "Epoch 106/200\n",
      "362/362 [==============================] - 1s 2ms/step - loss: 1.5028 - accuracy: 0.4415 - auc: 0.8832 - val_loss: 1.6980 - val_accuracy: 0.3890 - val_auc: 0.8558\n",
      "\n",
      "Epoch 00106: val_loss did not improve from 1.64768\n",
      "Epoch 107/200\n",
      "362/362 [==============================] - 1s 2ms/step - loss: 1.4838 - accuracy: 0.4472 - auc: 0.8864 - val_loss: 1.6708 - val_accuracy: 0.3960 - val_auc: 0.8589\n"
     ]
    },
    {
     "name": "stdout",
     "output_type": "stream",
     "text": [
      "\n",
      "Epoch 00107: val_loss did not improve from 1.64768\n",
      "Epoch 108/200\n",
      "362/362 [==============================] - 1s 2ms/step - loss: 1.4970 - accuracy: 0.4424 - auc: 0.8845 - val_loss: 1.6821 - val_accuracy: 0.4037 - val_auc: 0.8578\n",
      "\n",
      "Epoch 00108: val_loss did not improve from 1.64768\n",
      "Epoch 109/200\n",
      "362/362 [==============================] - 1s 2ms/step - loss: 1.4905 - accuracy: 0.4447 - auc: 0.8853 - val_loss: 1.6761 - val_accuracy: 0.4224 - val_auc: 0.8591\n",
      "\n",
      "Epoch 00109: val_loss did not improve from 1.64768\n",
      "Epoch 110/200\n",
      "362/362 [==============================] - 1s 2ms/step - loss: 1.4931 - accuracy: 0.4416 - auc: 0.8850 - val_loss: 1.6863 - val_accuracy: 0.4061 - val_auc: 0.8557\n",
      "\n",
      "Epoch 00110: val_loss did not improve from 1.64768\n",
      "Epoch 111/200\n",
      "362/362 [==============================] - 1s 2ms/step - loss: 1.4986 - accuracy: 0.4361 - auc: 0.8840 - val_loss: 1.7026 - val_accuracy: 0.3936 - val_auc: 0.8552\n",
      "\n",
      "Epoch 00111: val_loss did not improve from 1.64768\n",
      "Epoch 112/200\n",
      "362/362 [==============================] - 1s 2ms/step - loss: 1.4868 - accuracy: 0.4403 - auc: 0.8862 - val_loss: 1.7054 - val_accuracy: 0.4030 - val_auc: 0.8539\n",
      "\n",
      "Epoch 00112: val_loss did not improve from 1.64768\n",
      "Epoch 113/200\n",
      "362/362 [==============================] - 1s 2ms/step - loss: 1.4793 - accuracy: 0.4427 - auc: 0.8874 - val_loss: 1.6979 - val_accuracy: 0.4068 - val_auc: 0.8568\n",
      "\n",
      "Epoch 00113: val_loss did not improve from 1.64768\n",
      "Epoch 114/200\n",
      "362/362 [==============================] - 1s 2ms/step - loss: 1.4958 - accuracy: 0.4317 - auc: 0.8849 - val_loss: 1.7109 - val_accuracy: 0.4030 - val_auc: 0.8521\n",
      "\n",
      "Epoch 00114: val_loss did not improve from 1.64768\n",
      "Epoch 115/200\n",
      "362/362 [==============================] - 1s 2ms/step - loss: 1.4799 - accuracy: 0.4404 - auc: 0.8869 - val_loss: 1.6885 - val_accuracy: 0.4045 - val_auc: 0.8576\n",
      "\n",
      "Epoch 00115: val_loss did not improve from 1.64768\n",
      "Epoch 116/200\n",
      "362/362 [==============================] - 1s 2ms/step - loss: 1.4790 - accuracy: 0.4466 - auc: 0.8872 - val_loss: 1.6840 - val_accuracy: 0.4053 - val_auc: 0.8572\n",
      "\n",
      "Epoch 00116: val_loss did not improve from 1.64768\n",
      "Epoch 117/200\n",
      "362/362 [==============================] - 1s 2ms/step - loss: 1.4920 - accuracy: 0.4408 - auc: 0.8853 - val_loss: 1.6763 - val_accuracy: 0.4123 - val_auc: 0.8569\n",
      "\n",
      "Epoch 00117: val_loss did not improve from 1.64768\n",
      "Epoch 118/200\n",
      "362/362 [==============================] - 1s 2ms/step - loss: 1.4728 - accuracy: 0.4481 - auc: 0.8885 - val_loss: 1.6833 - val_accuracy: 0.3960 - val_auc: 0.8583\n",
      "\n",
      "Epoch 00118: val_loss did not improve from 1.64768\n",
      "Epoch 119/200\n",
      "362/362 [==============================] - 1s 2ms/step - loss: 1.4813 - accuracy: 0.4420 - auc: 0.8868 - val_loss: 1.6926 - val_accuracy: 0.4037 - val_auc: 0.8548\n",
      "\n",
      "Epoch 00119: val_loss did not improve from 1.64768\n",
      "Epoch 120/200\n",
      "362/362 [==============================] - 1s 2ms/step - loss: 1.4854 - accuracy: 0.4467 - auc: 0.8862 - val_loss: 1.6874 - val_accuracy: 0.4076 - val_auc: 0.8554\n",
      "\n",
      "Epoch 00120: val_loss did not improve from 1.64768\n",
      "Epoch 121/200\n",
      "362/362 [==============================] - 1s 2ms/step - loss: 1.4825 - accuracy: 0.4457 - auc: 0.8868 - val_loss: 1.6879 - val_accuracy: 0.4053 - val_auc: 0.8582\n",
      "\n",
      "Epoch 00121: val_loss did not improve from 1.64768\n",
      "Epoch 122/200\n",
      "362/362 [==============================] - 1s 2ms/step - loss: 1.5003 - accuracy: 0.4359 - auc: 0.8837 - val_loss: 1.6868 - val_accuracy: 0.4006 - val_auc: 0.8561\n",
      "\n",
      "Epoch 00122: val_loss did not improve from 1.64768\n",
      "Epoch 123/200\n",
      "362/362 [==============================] - 1s 2ms/step - loss: 1.4770 - accuracy: 0.4517 - auc: 0.8873 - val_loss: 1.6930 - val_accuracy: 0.4006 - val_auc: 0.8566\n",
      "\n",
      "Epoch 00123: val_loss did not improve from 1.64768\n",
      "Epoch 124/200\n",
      "362/362 [==============================] - 1s 2ms/step - loss: 1.4855 - accuracy: 0.4431 - auc: 0.8861 - val_loss: 1.7103 - val_accuracy: 0.4022 - val_auc: 0.8524\n",
      "\n",
      "Epoch 00124: val_loss did not improve from 1.64768\n",
      "Epoch 125/200\n",
      "362/362 [==============================] - 1s 2ms/step - loss: 1.4827 - accuracy: 0.4435 - auc: 0.8868 - val_loss: 1.6785 - val_accuracy: 0.4014 - val_auc: 0.8595\n",
      "\n",
      "Epoch 00125: val_loss did not improve from 1.64768\n",
      "Epoch 126/200\n",
      "362/362 [==============================] - 1s 2ms/step - loss: 1.4844 - accuracy: 0.4501 - auc: 0.8864 - val_loss: 1.6979 - val_accuracy: 0.3975 - val_auc: 0.8551\n",
      "\n",
      "Epoch 00126: val_loss did not improve from 1.64768\n",
      "Epoch 127/200\n",
      "362/362 [==============================] - 1s 2ms/step - loss: 1.4845 - accuracy: 0.4445 - auc: 0.8861 - val_loss: 1.6995 - val_accuracy: 0.3874 - val_auc: 0.8560\n",
      "\n",
      "Epoch 00127: val_loss did not improve from 1.64768\n",
      "Epoch 128/200\n",
      "362/362 [==============================] - 1s 2ms/step - loss: 1.4786 - accuracy: 0.4473 - auc: 0.8874 - val_loss: 1.6669 - val_accuracy: 0.4022 - val_auc: 0.8597\n",
      "\n",
      "Epoch 00128: val_loss did not improve from 1.64768\n",
      "Epoch 129/200\n",
      "362/362 [==============================] - 1s 2ms/step - loss: 1.4769 - accuracy: 0.4467 - auc: 0.8872 - val_loss: 1.6643 - val_accuracy: 0.4037 - val_auc: 0.8600\n",
      "\n",
      "Epoch 00129: val_loss did not improve from 1.64768\n",
      "Epoch 130/200\n",
      "362/362 [==============================] - 1s 2ms/step - loss: 1.4832 - accuracy: 0.4435 - auc: 0.8869 - val_loss: 1.6838 - val_accuracy: 0.3998 - val_auc: 0.8569\n",
      "\n",
      "Epoch 00130: val_loss did not improve from 1.64768\n",
      "Epoch 131/200\n",
      "362/362 [==============================] - 1s 2ms/step - loss: 1.4978 - accuracy: 0.4445 - auc: 0.8842 - val_loss: 1.6621 - val_accuracy: 0.4107 - val_auc: 0.8598\n",
      "\n",
      "Epoch 00131: val_loss did not improve from 1.64768\n",
      "Epoch 132/200\n",
      "362/362 [==============================] - 1s 2ms/step - loss: 1.4792 - accuracy: 0.4422 - auc: 0.8871 - val_loss: 1.6620 - val_accuracy: 0.4138 - val_auc: 0.8601\n",
      "\n",
      "Epoch 00132: val_loss did not improve from 1.64768\n",
      "Epoch 133/200\n",
      "362/362 [==============================] - 1s 2ms/step - loss: 1.4770 - accuracy: 0.4449 - auc: 0.8876 - val_loss: 1.6739 - val_accuracy: 0.4045 - val_auc: 0.8591\n",
      "\n",
      "Epoch 00133: val_loss did not improve from 1.64768\n",
      "Epoch 134/200\n",
      "362/362 [==============================] - 1s 2ms/step - loss: 1.4734 - accuracy: 0.4532 - auc: 0.8883 - val_loss: 1.6856 - val_accuracy: 0.4099 - val_auc: 0.8573\n",
      "\n",
      "Epoch 00134: val_loss did not improve from 1.64768\n",
      "Epoch 135/200\n",
      "362/362 [==============================] - 1s 2ms/step - loss: 1.4790 - accuracy: 0.4486 - auc: 0.8874 - val_loss: 1.6766 - val_accuracy: 0.4022 - val_auc: 0.8571\n",
      "\n",
      "Epoch 00135: val_loss did not improve from 1.64768\n",
      "Epoch 136/200\n",
      "362/362 [==============================] - 1s 2ms/step - loss: 1.4875 - accuracy: 0.4453 - auc: 0.8859 - val_loss: 1.6877 - val_accuracy: 0.3998 - val_auc: 0.8560\n",
      "\n",
      "Epoch 00136: val_loss did not improve from 1.64768\n",
      "Epoch 137/200\n",
      "362/362 [==============================] - 1s 2ms/step - loss: 1.4823 - accuracy: 0.4456 - auc: 0.8869 - val_loss: 1.6563 - val_accuracy: 0.4037 - val_auc: 0.8603\n",
      "\n",
      "Epoch 00137: val_loss did not improve from 1.64768\n",
      "Epoch 138/200\n",
      "362/362 [==============================] - 1s 2ms/step - loss: 1.4894 - accuracy: 0.4430 - auc: 0.8860 - val_loss: 1.6626 - val_accuracy: 0.4037 - val_auc: 0.8611\n",
      "\n",
      "Epoch 00138: val_loss did not improve from 1.64768\n",
      "Epoch 139/200\n",
      "362/362 [==============================] - 1s 2ms/step - loss: 1.4874 - accuracy: 0.4437 - auc: 0.8856 - val_loss: 1.6542 - val_accuracy: 0.4154 - val_auc: 0.8602\n",
      "\n",
      "Epoch 00139: val_loss did not improve from 1.64768\n",
      "Epoch 140/200\n",
      "362/362 [==============================] - 1s 2ms/step - loss: 1.4770 - accuracy: 0.4488 - auc: 0.8880 - val_loss: 1.6702 - val_accuracy: 0.4107 - val_auc: 0.8599\n",
      "\n",
      "Epoch 00140: val_loss did not improve from 1.64768\n",
      "Epoch 141/200\n",
      "362/362 [==============================] - 1s 2ms/step - loss: 1.4950 - accuracy: 0.4444 - auc: 0.8847 - val_loss: 1.6746 - val_accuracy: 0.4216 - val_auc: 0.8596\n",
      "\n",
      "Epoch 00141: val_loss did not improve from 1.64768\n",
      "Epoch 142/200\n",
      "362/362 [==============================] - 1s 2ms/step - loss: 1.4868 - accuracy: 0.4390 - auc: 0.8859 - val_loss: 1.6546 - val_accuracy: 0.4185 - val_auc: 0.8621\n",
      "\n",
      "Epoch 00142: val_loss did not improve from 1.64768\n",
      "Epoch 143/200\n",
      "362/362 [==============================] - 1s 2ms/step - loss: 1.4786 - accuracy: 0.4435 - auc: 0.8874 - val_loss: 1.6716 - val_accuracy: 0.4146 - val_auc: 0.8601\n"
     ]
    },
    {
     "name": "stdout",
     "output_type": "stream",
     "text": [
      "\n",
      "Epoch 00143: val_loss did not improve from 1.64768\n",
      "Epoch 144/200\n",
      "362/362 [==============================] - 1s 2ms/step - loss: 1.4769 - accuracy: 0.4507 - auc: 0.8876 - val_loss: 1.6816 - val_accuracy: 0.4068 - val_auc: 0.8579\n",
      "\n",
      "Epoch 00144: val_loss did not improve from 1.64768\n",
      "Epoch 145/200\n",
      "362/362 [==============================] - 1s 2ms/step - loss: 1.4850 - accuracy: 0.4408 - auc: 0.8862 - val_loss: 1.6488 - val_accuracy: 0.4123 - val_auc: 0.8626\n",
      "\n",
      "Epoch 00145: val_loss did not improve from 1.64768\n",
      "Epoch 146/200\n",
      "362/362 [==============================] - 1s 2ms/step - loss: 1.4775 - accuracy: 0.4517 - auc: 0.8877 - val_loss: 1.6611 - val_accuracy: 0.4169 - val_auc: 0.8614\n",
      "\n",
      "Epoch 00146: val_loss did not improve from 1.64768\n",
      "Epoch 147/200\n",
      "362/362 [==============================] - 1s 2ms/step - loss: 1.4904 - accuracy: 0.4405 - auc: 0.8853 - val_loss: 1.6656 - val_accuracy: 0.4022 - val_auc: 0.8617\n",
      "\n",
      "Epoch 00147: val_loss did not improve from 1.64768\n",
      "Epoch 148/200\n",
      "362/362 [==============================] - 1s 2ms/step - loss: 1.4879 - accuracy: 0.4446 - auc: 0.8860 - val_loss: 1.6707 - val_accuracy: 0.4006 - val_auc: 0.8589\n",
      "\n",
      "Epoch 00148: val_loss did not improve from 1.64768\n",
      "Epoch 149/200\n",
      "362/362 [==============================] - 1s 2ms/step - loss: 1.4717 - accuracy: 0.4454 - auc: 0.8886 - val_loss: 1.6864 - val_accuracy: 0.3929 - val_auc: 0.8578\n",
      "\n",
      "Epoch 00149: val_loss did not improve from 1.64768\n",
      "Epoch 150/200\n",
      "362/362 [==============================] - 1s 2ms/step - loss: 1.4738 - accuracy: 0.4489 - auc: 0.8886 - val_loss: 1.6628 - val_accuracy: 0.4076 - val_auc: 0.8609\n",
      "\n",
      "Epoch 00150: val_loss did not improve from 1.64768\n",
      "Epoch 151/200\n",
      "362/362 [==============================] - 1s 2ms/step - loss: 1.4739 - accuracy: 0.4519 - auc: 0.8883 - val_loss: 1.6925 - val_accuracy: 0.3874 - val_auc: 0.8566\n",
      "\n",
      "Epoch 00151: val_loss did not improve from 1.64768\n",
      "Epoch 152/200\n",
      "362/362 [==============================] - 1s 2ms/step - loss: 1.4874 - accuracy: 0.4455 - auc: 0.8857 - val_loss: 1.6894 - val_accuracy: 0.4006 - val_auc: 0.8565\n",
      "\n",
      "Epoch 00152: val_loss did not improve from 1.64768\n",
      "Epoch 153/200\n",
      "362/362 [==============================] - 1s 2ms/step - loss: 1.4713 - accuracy: 0.4457 - auc: 0.8888 - val_loss: 1.6794 - val_accuracy: 0.4068 - val_auc: 0.8579\n",
      "\n",
      "Epoch 00153: val_loss did not improve from 1.64768\n",
      "Epoch 154/200\n",
      "362/362 [==============================] - 1s 2ms/step - loss: 1.4824 - accuracy: 0.4527 - auc: 0.8868 - val_loss: 1.6896 - val_accuracy: 0.3991 - val_auc: 0.8551\n",
      "\n",
      "Epoch 00154: val_loss did not improve from 1.64768\n",
      "Epoch 155/200\n",
      "362/362 [==============================] - 1s 2ms/step - loss: 1.4939 - accuracy: 0.4370 - auc: 0.8847 - val_loss: 1.6811 - val_accuracy: 0.3960 - val_auc: 0.8588\n",
      "\n",
      "Epoch 00155: val_loss did not improve from 1.64768\n",
      "Epoch 156/200\n",
      "362/362 [==============================] - 1s 2ms/step - loss: 1.4841 - accuracy: 0.4426 - auc: 0.8868 - val_loss: 1.6861 - val_accuracy: 0.4014 - val_auc: 0.8589\n",
      "\n",
      "Epoch 00156: val_loss did not improve from 1.64768\n",
      "Epoch 157/200\n",
      "362/362 [==============================] - 1s 2ms/step - loss: 1.4780 - accuracy: 0.4480 - auc: 0.8874 - val_loss: 1.6653 - val_accuracy: 0.4006 - val_auc: 0.8609\n",
      "\n",
      "Epoch 00157: val_loss did not improve from 1.64768\n",
      "Epoch 158/200\n",
      "362/362 [==============================] - 1s 2ms/step - loss: 1.4758 - accuracy: 0.4467 - auc: 0.8878 - val_loss: 1.6748 - val_accuracy: 0.4286 - val_auc: 0.8611\n",
      "\n",
      "Epoch 00158: val_loss did not improve from 1.64768\n",
      "Epoch 159/200\n",
      "362/362 [==============================] - 1s 2ms/step - loss: 1.4869 - accuracy: 0.4464 - auc: 0.8859 - val_loss: 1.6964 - val_accuracy: 0.4115 - val_auc: 0.8556\n",
      "\n",
      "Epoch 00159: val_loss did not improve from 1.64768\n",
      "Epoch 160/200\n",
      "362/362 [==============================] - 1s 2ms/step - loss: 1.4706 - accuracy: 0.4489 - auc: 0.8888 - val_loss: 1.7160 - val_accuracy: 0.3905 - val_auc: 0.8534\n",
      "\n",
      "Epoch 00160: val_loss did not improve from 1.64768\n",
      "Epoch 161/200\n",
      "362/362 [==============================] - 1s 2ms/step - loss: 1.4728 - accuracy: 0.4492 - auc: 0.8882 - val_loss: 1.6891 - val_accuracy: 0.4185 - val_auc: 0.8582\n",
      "\n",
      "Epoch 00161: val_loss did not improve from 1.64768\n",
      "Epoch 162/200\n",
      "362/362 [==============================] - 1s 2ms/step - loss: 1.4706 - accuracy: 0.4485 - auc: 0.8886 - val_loss: 1.7056 - val_accuracy: 0.3944 - val_auc: 0.8547\n",
      "\n",
      "Epoch 00162: val_loss did not improve from 1.64768\n",
      "Epoch 163/200\n",
      "362/362 [==============================] - 1s 2ms/step - loss: 1.4746 - accuracy: 0.4446 - auc: 0.8886 - val_loss: 1.6824 - val_accuracy: 0.3998 - val_auc: 0.8563\n",
      "\n",
      "Epoch 00163: val_loss did not improve from 1.64768\n",
      "Epoch 164/200\n",
      "362/362 [==============================] - 1s 2ms/step - loss: 1.4765 - accuracy: 0.4495 - auc: 0.8878 - val_loss: 1.6713 - val_accuracy: 0.4061 - val_auc: 0.8587\n",
      "\n",
      "Epoch 00164: val_loss did not improve from 1.64768\n",
      "Epoch 165/200\n",
      "362/362 [==============================] - 1s 2ms/step - loss: 1.4717 - accuracy: 0.4467 - auc: 0.8884 - val_loss: 1.6783 - val_accuracy: 0.4061 - val_auc: 0.8597\n",
      "\n",
      "Epoch 00165: val_loss did not improve from 1.64768\n",
      "Epoch 166/200\n",
      "362/362 [==============================] - 1s 2ms/step - loss: 1.4750 - accuracy: 0.4474 - auc: 0.8883 - val_loss: 1.7151 - val_accuracy: 0.4107 - val_auc: 0.8525\n",
      "\n",
      "Epoch 00166: val_loss did not improve from 1.64768\n",
      "Epoch 167/200\n",
      "362/362 [==============================] - 1s 2ms/step - loss: 1.4679 - accuracy: 0.4465 - auc: 0.8893 - val_loss: 1.6673 - val_accuracy: 0.4092 - val_auc: 0.8608\n",
      "\n",
      "Epoch 00167: val_loss did not improve from 1.64768\n",
      "Epoch 168/200\n",
      "362/362 [==============================] - 1s 2ms/step - loss: 1.4733 - accuracy: 0.4464 - auc: 0.8880 - val_loss: 1.6759 - val_accuracy: 0.3998 - val_auc: 0.8582\n",
      "\n",
      "Epoch 00168: val_loss did not improve from 1.64768\n",
      "Epoch 169/200\n",
      "362/362 [==============================] - 1s 2ms/step - loss: 1.4708 - accuracy: 0.4474 - auc: 0.8883 - val_loss: 1.6846 - val_accuracy: 0.4107 - val_auc: 0.8569\n",
      "\n",
      "Epoch 00169: val_loss did not improve from 1.64768\n",
      "Epoch 170/200\n",
      "362/362 [==============================] - 1s 2ms/step - loss: 1.4802 - accuracy: 0.4451 - auc: 0.8871 - val_loss: 1.6920 - val_accuracy: 0.4146 - val_auc: 0.8541\n",
      "\n",
      "Epoch 00170: val_loss did not improve from 1.64768\n",
      "Epoch 171/200\n",
      "362/362 [==============================] - 1s 2ms/step - loss: 1.4809 - accuracy: 0.4499 - auc: 0.8870 - val_loss: 1.6995 - val_accuracy: 0.4068 - val_auc: 0.8539\n",
      "\n",
      "Epoch 00171: val_loss did not improve from 1.64768\n",
      "Epoch 172/200\n",
      "362/362 [==============================] - 1s 2ms/step - loss: 1.4742 - accuracy: 0.4499 - auc: 0.8882 - val_loss: 1.6838 - val_accuracy: 0.3991 - val_auc: 0.8576\n",
      "\n",
      "Epoch 00172: val_loss did not improve from 1.64768\n",
      "Epoch 173/200\n",
      "362/362 [==============================] - 1s 2ms/step - loss: 1.4730 - accuracy: 0.4470 - auc: 0.8884 - val_loss: 1.6823 - val_accuracy: 0.3998 - val_auc: 0.8565\n",
      "\n",
      "Epoch 00173: val_loss did not improve from 1.64768\n",
      "Epoch 174/200\n",
      "362/362 [==============================] - 1s 2ms/step - loss: 1.4809 - accuracy: 0.4472 - auc: 0.8872 - val_loss: 1.6895 - val_accuracy: 0.4030 - val_auc: 0.8567\n",
      "\n",
      "Epoch 00174: val_loss did not improve from 1.64768\n",
      "Epoch 175/200\n",
      "362/362 [==============================] - 1s 2ms/step - loss: 1.4681 - accuracy: 0.4419 - auc: 0.8891 - val_loss: 1.6735 - val_accuracy: 0.3913 - val_auc: 0.8579\n",
      "\n",
      "Epoch 00175: val_loss did not improve from 1.64768\n",
      "Epoch 176/200\n",
      "362/362 [==============================] - 1s 2ms/step - loss: 1.4577 - accuracy: 0.4470 - auc: 0.8911 - val_loss: 1.6555 - val_accuracy: 0.4193 - val_auc: 0.8607\n",
      "\n",
      "Epoch 00176: val_loss did not improve from 1.64768\n",
      "Epoch 177/200\n",
      "362/362 [==============================] - 1s 2ms/step - loss: 1.4619 - accuracy: 0.4518 - auc: 0.8907 - val_loss: 1.6918 - val_accuracy: 0.4014 - val_auc: 0.8553\n",
      "\n",
      "Epoch 00177: val_loss did not improve from 1.64768\n",
      "Epoch 178/200\n",
      "362/362 [==============================] - 1s 2ms/step - loss: 1.4631 - accuracy: 0.4541 - auc: 0.8902 - val_loss: 1.7113 - val_accuracy: 0.3967 - val_auc: 0.8521\n",
      "\n",
      "Epoch 00178: val_loss did not improve from 1.64768\n",
      "Epoch 179/200\n",
      "362/362 [==============================] - 1s 2ms/step - loss: 1.4714 - accuracy: 0.4520 - auc: 0.8886 - val_loss: 1.6779 - val_accuracy: 0.4231 - val_auc: 0.8577\n"
     ]
    },
    {
     "name": "stdout",
     "output_type": "stream",
     "text": [
      "\n",
      "Epoch 00179: val_loss did not improve from 1.64768\n",
      "Epoch 180/200\n",
      "362/362 [==============================] - 1s 2ms/step - loss: 1.4650 - accuracy: 0.4508 - auc: 0.8893 - val_loss: 1.6677 - val_accuracy: 0.4030 - val_auc: 0.8605\n",
      "\n",
      "Epoch 00180: val_loss did not improve from 1.64768\n",
      "Epoch 181/200\n",
      "362/362 [==============================] - 1s 2ms/step - loss: 1.4670 - accuracy: 0.4479 - auc: 0.8896 - val_loss: 1.6915 - val_accuracy: 0.3998 - val_auc: 0.8547\n",
      "\n",
      "Epoch 00181: val_loss did not improve from 1.64768\n",
      "Epoch 182/200\n",
      "362/362 [==============================] - 1s 2ms/step - loss: 1.4769 - accuracy: 0.4428 - auc: 0.8876 - val_loss: 1.6985 - val_accuracy: 0.4030 - val_auc: 0.8554\n",
      "\n",
      "Epoch 00182: val_loss did not improve from 1.64768\n",
      "Epoch 183/200\n",
      "362/362 [==============================] - 1s 2ms/step - loss: 1.4639 - accuracy: 0.4528 - auc: 0.8901 - val_loss: 1.7038 - val_accuracy: 0.4006 - val_auc: 0.8548\n",
      "\n",
      "Epoch 00183: val_loss did not improve from 1.64768\n",
      "Epoch 184/200\n",
      "362/362 [==============================] - 1s 2ms/step - loss: 1.4674 - accuracy: 0.4477 - auc: 0.8894 - val_loss: 1.6788 - val_accuracy: 0.4193 - val_auc: 0.8579\n",
      "\n",
      "Epoch 00184: val_loss did not improve from 1.64768\n",
      "Epoch 185/200\n",
      "362/362 [==============================] - 1s 2ms/step - loss: 1.4556 - accuracy: 0.4551 - auc: 0.8908 - val_loss: 1.6945 - val_accuracy: 0.4037 - val_auc: 0.8555\n",
      "\n",
      "Epoch 00185: val_loss did not improve from 1.64768\n",
      "Epoch 186/200\n",
      "362/362 [==============================] - 1s 2ms/step - loss: 1.4714 - accuracy: 0.4518 - auc: 0.8886 - val_loss: 1.6872 - val_accuracy: 0.3998 - val_auc: 0.8571\n",
      "\n",
      "Epoch 00186: val_loss did not improve from 1.64768\n",
      "Epoch 187/200\n",
      "362/362 [==============================] - 1s 2ms/step - loss: 1.4670 - accuracy: 0.4507 - auc: 0.8894 - val_loss: 1.6897 - val_accuracy: 0.4014 - val_auc: 0.8577\n",
      "\n",
      "Epoch 00187: val_loss did not improve from 1.64768\n",
      "Epoch 188/200\n",
      "362/362 [==============================] - 1s 2ms/step - loss: 1.4679 - accuracy: 0.4495 - auc: 0.8889 - val_loss: 1.6926 - val_accuracy: 0.4115 - val_auc: 0.8562\n",
      "\n",
      "Epoch 00188: val_loss did not improve from 1.64768\n",
      "Epoch 189/200\n",
      "362/362 [==============================] - 1s 2ms/step - loss: 1.4688 - accuracy: 0.4505 - auc: 0.8889 - val_loss: 1.6968 - val_accuracy: 0.4115 - val_auc: 0.8560\n",
      "\n",
      "Epoch 00189: val_loss did not improve from 1.64768\n",
      "Epoch 190/200\n",
      "362/362 [==============================] - 1s 2ms/step - loss: 1.4555 - accuracy: 0.4504 - auc: 0.8909 - val_loss: 1.6640 - val_accuracy: 0.4146 - val_auc: 0.8623\n",
      "\n",
      "Epoch 00190: val_loss did not improve from 1.64768\n",
      "Epoch 191/200\n",
      "362/362 [==============================] - 1s 2ms/step - loss: 1.4557 - accuracy: 0.4521 - auc: 0.8914 - val_loss: 1.7032 - val_accuracy: 0.3913 - val_auc: 0.8544\n",
      "\n",
      "Epoch 00191: val_loss did not improve from 1.64768\n",
      "Epoch 192/200\n",
      "362/362 [==============================] - 1s 2ms/step - loss: 1.4836 - accuracy: 0.4452 - auc: 0.8866 - val_loss: 1.6872 - val_accuracy: 0.4014 - val_auc: 0.8575\n",
      "\n",
      "Epoch 00192: val_loss did not improve from 1.64768\n",
      "Epoch 193/200\n",
      "362/362 [==============================] - 1s 2ms/step - loss: 1.4556 - accuracy: 0.4590 - auc: 0.8911 - val_loss: 1.6778 - val_accuracy: 0.3960 - val_auc: 0.8582\n",
      "\n",
      "Epoch 00193: val_loss did not improve from 1.64768\n",
      "Epoch 194/200\n",
      "362/362 [==============================] - 1s 2ms/step - loss: 1.4781 - accuracy: 0.4510 - auc: 0.8876 - val_loss: 1.6691 - val_accuracy: 0.4006 - val_auc: 0.8592\n",
      "\n",
      "Epoch 00194: val_loss did not improve from 1.64768\n",
      "Epoch 195/200\n",
      "362/362 [==============================] - 1s 2ms/step - loss: 1.4729 - accuracy: 0.4479 - auc: 0.8883 - val_loss: 1.6921 - val_accuracy: 0.3828 - val_auc: 0.8564\n",
      "\n",
      "Epoch 00195: val_loss did not improve from 1.64768\n",
      "Epoch 196/200\n",
      "362/362 [==============================] - 1s 2ms/step - loss: 1.4570 - accuracy: 0.4586 - auc: 0.8909 - val_loss: 1.6876 - val_accuracy: 0.3998 - val_auc: 0.8570\n",
      "\n",
      "Epoch 00196: val_loss did not improve from 1.64768\n",
      "Epoch 197/200\n",
      "362/362 [==============================] - 1s 2ms/step - loss: 1.4706 - accuracy: 0.4480 - auc: 0.8888 - val_loss: 1.6627 - val_accuracy: 0.4045 - val_auc: 0.8596\n",
      "\n",
      "Epoch 00197: val_loss did not improve from 1.64768\n",
      "Epoch 198/200\n",
      "362/362 [==============================] - 1s 2ms/step - loss: 1.4722 - accuracy: 0.4613 - auc: 0.8883 - val_loss: 1.6713 - val_accuracy: 0.4107 - val_auc: 0.8591\n",
      "\n",
      "Epoch 00198: val_loss did not improve from 1.64768\n",
      "Epoch 199/200\n",
      "362/362 [==============================] - 1s 2ms/step - loss: 1.4627 - accuracy: 0.4526 - auc: 0.8900 - val_loss: 1.6834 - val_accuracy: 0.4006 - val_auc: 0.8562\n",
      "\n",
      "Epoch 00199: val_loss did not improve from 1.64768\n",
      "Epoch 200/200\n",
      "362/362 [==============================] - 1s 2ms/step - loss: 1.4819 - accuracy: 0.4449 - auc: 0.8875 - val_loss: 1.6886 - val_accuracy: 0.3929 - val_auc: 0.8565\n",
      "\n",
      "Epoch 00200: val_loss did not improve from 1.64768\n",
      "Training completed in time:  0:02:38.938024\n"
     ]
    }
   ],
   "source": [
    "## Trianing my model\n",
    "from tensorflow.keras.callbacks import ModelCheckpoint\n",
    "from datetime import datetime \n",
    "\n",
    "num_epochs = 200\n",
    "num_batch_size = 32\n",
    "\n",
    "checkpointer = ModelCheckpoint(filepath='saved_models/audio_classification.hdf5', \n",
    "                               verbose=1, save_best_only=True)\n",
    "start = datetime.now()\n",
    "\n",
    "model.fit(X_train, y_train, batch_size=num_batch_size, epochs=num_epochs, validation_data=(X_test, y_test), callbacks=[checkpointer], verbose=1)\n",
    "\n",
    "\n",
    "duration = datetime.now() - start\n",
    "print(\"Training completed in time: \", duration)"
   ]
  },
  {
   "cell_type": "code",
   "execution_count": 163,
   "id": "6ccfef1f",
   "metadata": {},
   "outputs": [
    {
     "name": "stdout",
     "output_type": "stream",
     "text": [
      "362/362 [==============================] - 1s 3ms/step - loss: 1.1676 - accuracy: 0.5695 - auc: 0.9389\n"
     ]
    },
    {
     "data": {
      "text/plain": [
       "[1.1675776243209839, 0.5694923996925354, 0.9389387965202332]"
      ]
     },
     "execution_count": 163,
     "metadata": {},
     "output_type": "execute_result"
    }
   ],
   "source": [
    "model.evaluate(X_train, y_train)"
   ]
  },
  {
   "cell_type": "code",
   "execution_count": 164,
   "id": "253c5f19",
   "metadata": {},
   "outputs": [
    {
     "name": "stdout",
     "output_type": "stream",
     "text": [
      "41/41 [==============================] - 0s 2ms/step - loss: 1.6886 - accuracy: 0.3929 - auc: 0.8565\n"
     ]
    },
    {
     "data": {
      "text/plain": [
       "[1.6886274814605713, 0.3928571343421936, 0.8564711809158325]"
      ]
     },
     "execution_count": 164,
     "metadata": {},
     "output_type": "execute_result"
    }
   ],
   "source": [
    "model.evaluate(X_test, y_test)"
   ]
  },
  {
   "cell_type": "code",
   "execution_count": 192,
   "id": "f53ccd5d",
   "metadata": {},
   "outputs": [
    {
     "data": {
      "text/plain": [
       "[3, 2, 0, 8, 0, 0, 3, 3, 4, 4, 2, 4, 1, 4, 1, 3, 4, 0, 6, 0]"
      ]
     },
     "execution_count": 192,
     "metadata": {},
     "output_type": "execute_result"
    }
   ],
   "source": [
    "list(map(np.argmax, model.predict(X_test)[:20]))"
   ]
  },
  {
   "cell_type": "code",
   "execution_count": 193,
   "id": "29c8ab82",
   "metadata": {},
   "outputs": [
    {
     "data": {
      "text/plain": [
       "[9, 8, 1, 6, 0, 9, 3, 3, 8, 4, 9, 8, 7, 4, 1, 3, 4, 2, 2, 0]"
      ]
     },
     "execution_count": 193,
     "metadata": {},
     "output_type": "execute_result"
    }
   ],
   "source": [
    "list(map(np.argmax, y_test[:20]))"
   ]
  },
  {
   "cell_type": "code",
   "execution_count": 194,
   "id": "30ec9063",
   "metadata": {},
   "outputs": [],
   "source": [
    "from sklearn.metrics import f1_score"
   ]
  },
  {
   "cell_type": "code",
   "execution_count": 199,
   "id": "813c6e9b",
   "metadata": {},
   "outputs": [
    {
     "data": {
      "text/plain": [
       "array([0.46931408, 0.40875912, 0.34061135, 0.51578947, 0.55769231,\n",
       "       0.20512821, 0.11904762, 0.22222222, 0.40169133, 0.27488152,\n",
       "       0.        ])"
      ]
     },
     "execution_count": 199,
     "metadata": {},
     "output_type": "execute_result"
    }
   ],
   "source": [
    "f1_score(list(map(np.argmax, model.predict(X_test))), list(map(np.argmax, y_test)), average=None)"
   ]
  },
  {
   "cell_type": "code",
   "execution_count": 202,
   "id": "7d408f44",
   "metadata": {},
   "outputs": [
    {
     "data": {
      "text/plain": [
       "dict_values(['Angry', 'Disgusted', 'Domination', 'Happy', 'Neutral', 'Sad', 'Scared', 'Shame', 'Submission', 'Surprised', 'Tiredness'])"
      ]
     },
     "execution_count": 202,
     "metadata": {},
     "output_type": "execute_result"
    }
   ],
   "source": [
    "emotion_dict.values()"
   ]
  },
  {
   "cell_type": "code",
   "execution_count": 203,
   "id": "7f9acdee",
   "metadata": {},
   "outputs": [
    {
     "data": {
      "text/plain": [
       "array([0.63456311, 0.6247191 , 0.51572976, 0.6793238 , 0.63405527,\n",
       "       0.43949045, 0.46376812, 0.50424929, 0.54701286, 0.46542393,\n",
       "       0.19354839])"
      ]
     },
     "execution_count": 203,
     "metadata": {},
     "output_type": "execute_result"
    }
   ],
   "source": [
    "f1_score(list(map(np.argmax, model.predict(X_train))), list(map(np.argmax, y_train)), average=None)"
   ]
  },
  {
   "cell_type": "code",
   "execution_count": 207,
   "id": "c66e7c94",
   "metadata": {},
   "outputs": [
    {
     "data": {
      "text/plain": [
       "TensorShape([10, 8])"
      ]
     },
     "execution_count": 207,
     "metadata": {},
     "output_type": "execute_result"
    }
   ],
   "source": [
    "tf.random.normal([32, 10, 8])[0].shape"
   ]
  },
  {
   "cell_type": "code",
   "execution_count": 208,
   "id": "b713fd95",
   "metadata": {},
   "outputs": [],
   "source": [
    "model.save('my_model_1.hdf5')"
   ]
  },
  {
   "cell_type": "markdown",
   "id": "fdb2ee98",
   "metadata": {},
   "source": [
    "## Второй подход (с stft и audio_crop)"
   ]
  },
  {
   "cell_type": "code",
   "execution_count": 17,
   "id": "ba50cded",
   "metadata": {},
   "outputs": [],
   "source": [
    "def features_extractor_fft(filename):\n",
    "    audio, sample_rate = librosa.load(filename, res_type='kaiser_fast') \n",
    "    mfccs_features = librosa.feature.mfcc(y=audio, sr=sample_rate, n_mfcc=13, n_fft=512, hop_length=512)\n",
    "#     mfccs_scaled_features = np.mean(mfccs_features.T,axis=0)\n",
    "    return mfccs_features.T"
   ]
  },
  {
   "cell_type": "code",
   "execution_count": 18,
   "id": "c783fcce",
   "metadata": {},
   "outputs": [
    {
     "data": {
      "text/plain": [
       "(130, 13)"
      ]
     },
     "execution_count": 18,
     "metadata": {},
     "output_type": "execute_result"
    }
   ],
   "source": [
    "features_extractor_fft('test.wav').shape"
   ]
  },
  {
   "cell_type": "code",
   "execution_count": 19,
   "id": "16c2b7ae",
   "metadata": {},
   "outputs": [],
   "source": [
    "def make_dataset_fft(emotion_dict, emotion_path, audio_path):\n",
    "    small_files = 0\n",
    "    files_lost = 0\n",
    "    error = 0\n",
    "    result_data = []\n",
    "    for table, classname in emotion_dict.items():\n",
    "        data = pd.read_csv(emotion_path + '/' + table)\n",
    "        for i, row in data.iterrows():\n",
    "            if row['End'] - row['Start'] > 3:\n",
    "                try:\n",
    "                    try:\n",
    "                        file = AudioSegment.from_file(audio_path + '/' + row['File'] + '_mic.wav')\n",
    "                    except FileNotFoundError:\n",
    "                        files_lost += 1\n",
    "                        continue\n",
    "#                     new_file = file[row['Start'] * 1000 : row['End'] * 1000]\n",
    "#                     new_file.export('test.wav', format='wav')\n",
    "#                     features = features_extractor('test.wav')\n",
    "#                     result_data.append([features, classname])\n",
    "                    start = row['Start'] * 1000\n",
    "                    end = row['Start'] + 3000\n",
    "                    while end < row['End'] * 1000:\n",
    "                        new_file = file[start: end]\n",
    "                        new_file.export('test.wav', format='wav')\n",
    "                        features = features_extractor_fft('test.wav')\n",
    "                        result_data.append([features, classname])\n",
    "                        start = end\n",
    "                        end += 3000\n",
    "                except:\n",
    "                    error += 1\n",
    "                    continue\n",
    "            else:\n",
    "                small_files += 1\n",
    "            if i % 100 == 0:\n",
    "                print(f'Class {classname}, Step {i}')\n",
    "    print(f'Small files: {small_files}, Lost_files: {files_lost}, Errors: {error}')\n",
    "    return result_data"
   ]
  },
  {
   "cell_type": "code",
   "execution_count": 20,
   "id": "8275b180",
   "metadata": {},
   "outputs": [
    {
     "name": "stdout",
     "output_type": "stream",
     "text": [
      "Class Angry, Step 500\n",
      "Class Angry, Step 1200\n",
      "Class Angry, Step 1300\n",
      "Class Disgusted, Step 700\n",
      "Class Disgusted, Step 900\n",
      "Class Domination, Step 100\n"
     ]
    },
    {
     "name": "stderr",
     "output_type": "stream",
     "text": [
      "c:\\users\\79217\\appdata\\local\\programs\\python\\python39\\lib\\site-packages\\librosa\\core\\spectrum.py:222: UserWarning: n_fft=512 is too small for input signal of length=507\n",
      "  warnings.warn(\n"
     ]
    },
    {
     "name": "stdout",
     "output_type": "stream",
     "text": [
      "Class Domination, Step 200\n",
      "Class Domination, Step 400\n"
     ]
    },
    {
     "name": "stderr",
     "output_type": "stream",
     "text": [
      "c:\\users\\79217\\appdata\\local\\programs\\python\\python39\\lib\\site-packages\\librosa\\core\\spectrum.py:222: UserWarning: n_fft=512 is too small for input signal of length=286\n",
      "  warnings.warn(\n",
      "c:\\users\\79217\\appdata\\local\\programs\\python\\python39\\lib\\site-packages\\librosa\\core\\spectrum.py:222: UserWarning: n_fft=512 is too small for input signal of length=66\n",
      "  warnings.warn(\n"
     ]
    },
    {
     "name": "stdout",
     "output_type": "stream",
     "text": [
      "Class Domination, Step 600\n",
      "Class Domination, Step 700\n",
      "Class Domination, Step 800\n",
      "Class Domination, Step 1000\n"
     ]
    },
    {
     "name": "stderr",
     "output_type": "stream",
     "text": [
      "c:\\users\\79217\\appdata\\local\\programs\\python\\python39\\lib\\site-packages\\librosa\\core\\spectrum.py:222: UserWarning: n_fft=512 is too small for input signal of length=133\n",
      "  warnings.warn(\n"
     ]
    },
    {
     "name": "stdout",
     "output_type": "stream",
     "text": [
      "Class Domination, Step 1100\n",
      "Class Domination, Step 1500\n",
      "Class Domination, Step 1600\n",
      "Class Domination, Step 1700\n"
     ]
    },
    {
     "name": "stderr",
     "output_type": "stream",
     "text": [
      "c:\\users\\79217\\appdata\\local\\programs\\python\\python39\\lib\\site-packages\\librosa\\core\\spectrum.py:222: UserWarning: n_fft=512 is too small for input signal of length=419\n",
      "  warnings.warn(\n"
     ]
    },
    {
     "name": "stdout",
     "output_type": "stream",
     "text": [
      "Class Domination, Step 1900\n",
      "Class Domination, Step 2000\n",
      "Class Domination, Step 2100\n",
      "Class Happy, Step 500\n",
      "Class Happy, Step 600\n",
      "Class Happy, Step 1000\n",
      "Class Happy, Step 1400\n",
      "Class Happy, Step 1500\n",
      "Class Happy, Step 1600\n",
      "Class Happy, Step 1700\n",
      "Class Happy, Step 1800\n",
      "Class Happy, Step 1900\n",
      "Class Happy, Step 2100\n",
      "Class Happy, Step 2400\n",
      "Class Neutral, Step 0\n",
      "Class Neutral, Step 200\n",
      "Class Neutral, Step 400\n",
      "Class Neutral, Step 500\n"
     ]
    },
    {
     "name": "stderr",
     "output_type": "stream",
     "text": [
      "c:\\users\\79217\\appdata\\local\\programs\\python\\python39\\lib\\site-packages\\librosa\\core\\spectrum.py:222: UserWarning: n_fft=512 is too small for input signal of length=155\n",
      "  warnings.warn(\n"
     ]
    },
    {
     "name": "stdout",
     "output_type": "stream",
     "text": [
      "Class Neutral, Step 600\n",
      "Class Neutral, Step 1000\n",
      "Class Neutral, Step 1200\n",
      "Class Sad, Step 300\n",
      "Class Sad, Step 800\n",
      "Class Scared, Step 100\n"
     ]
    },
    {
     "name": "stderr",
     "output_type": "stream",
     "text": [
      "c:\\users\\79217\\appdata\\local\\programs\\python\\python39\\lib\\site-packages\\librosa\\core\\spectrum.py:222: UserWarning: n_fft=512 is too small for input signal of length=485\n",
      "  warnings.warn(\n"
     ]
    },
    {
     "name": "stdout",
     "output_type": "stream",
     "text": [
      "Class Scared, Step 500\n"
     ]
    },
    {
     "name": "stderr",
     "output_type": "stream",
     "text": [
      "c:\\users\\79217\\appdata\\local\\programs\\python\\python39\\lib\\site-packages\\librosa\\core\\spectrum.py:222: UserWarning: n_fft=512 is too small for input signal of length=89\n",
      "  warnings.warn(\n",
      "c:\\users\\79217\\appdata\\local\\programs\\python\\python39\\lib\\site-packages\\librosa\\core\\spectrum.py:222: UserWarning: n_fft=512 is too small for input signal of length=44\n",
      "  warnings.warn(\n"
     ]
    },
    {
     "name": "stdout",
     "output_type": "stream",
     "text": [
      "Class Scared, Step 700\n",
      "Class Scared, Step 800\n",
      "Class Scared, Step 900\n",
      "Class Scared, Step 1000\n",
      "Class Scared, Step 1100\n",
      "Class Submission, Step 100\n",
      "Class Submission, Step 200\n"
     ]
    },
    {
     "name": "stderr",
     "output_type": "stream",
     "text": [
      "c:\\users\\79217\\appdata\\local\\programs\\python\\python39\\lib\\site-packages\\librosa\\core\\spectrum.py:222: UserWarning: n_fft=512 is too small for input signal of length=242\n",
      "  warnings.warn(\n"
     ]
    },
    {
     "name": "stdout",
     "output_type": "stream",
     "text": [
      "Class Submission, Step 700\n",
      "Class Submission, Step 900\n",
      "Class Submission, Step 1000\n",
      "Class Submission, Step 1400\n",
      "Class Submission, Step 1500\n",
      "Class Submission, Step 1900\n",
      "Class Submission, Step 2000\n",
      "Class Surprised, Step 100\n",
      "Class Surprised, Step 400\n",
      "Class Surprised, Step 600\n",
      "Class Surprised, Step 700\n",
      "Class Surprised, Step 1000\n",
      "Class Surprised, Step 1100\n",
      "Class Surprised, Step 1200\n",
      "Class Surprised, Step 1300\n",
      "Class Surprised, Step 1500\n",
      "Class Surprised, Step 1600\n",
      "Class Tiredness, Step 0\n",
      "Small files: 2886, Lost_files: 0, Errors: 10007\n"
     ]
    }
   ],
   "source": [
    "ds_fft = make_dataset_fft(emotion_dict, 'Annotations_by_emotions', 'Audio')"
   ]
  },
  {
   "cell_type": "code",
   "execution_count": 21,
   "id": "4ed18fb1",
   "metadata": {},
   "outputs": [
    {
     "data": {
      "text/plain": [
       "28387"
      ]
     },
     "execution_count": 21,
     "metadata": {},
     "output_type": "execute_result"
    }
   ],
   "source": [
    "len(ds_fft)"
   ]
  },
  {
   "cell_type": "code",
   "execution_count": 33,
   "id": "8a21ebeb",
   "metadata": {},
   "outputs": [
    {
     "data": {
      "text/plain": [
       "'Angry'"
      ]
     },
     "execution_count": 33,
     "metadata": {},
     "output_type": "execute_result"
    }
   ],
   "source": [
    "ds_fft[1][1]"
   ]
  },
  {
   "cell_type": "code",
   "execution_count": 34,
   "id": "50ced916",
   "metadata": {},
   "outputs": [],
   "source": [
    "x_data = []\n",
    "y_data = []\n",
    "for i in range(len(ds_fft)):\n",
    "    if ds_fft[i][0].shape == (130, 13):\n",
    "        x_data.append(ds_fft[i][0])\n",
    "        y_data.append(ds_fft[i][1])"
   ]
  },
  {
   "cell_type": "code",
   "execution_count": 174,
   "id": "623d6cc2",
   "metadata": {},
   "outputs": [],
   "source": [
    "X = np.array(x_data)\n",
    "y = np.array(y_data)\n",
    "y=np.array(pd.get_dummies(y))"
   ]
  },
  {
   "cell_type": "code",
   "execution_count": 175,
   "id": "d783612b",
   "metadata": {},
   "outputs": [
    {
     "data": {
      "text/plain": [
       "((26167, 130, 13), (26167, 11))"
      ]
     },
     "execution_count": 175,
     "metadata": {},
     "output_type": "execute_result"
    }
   ],
   "source": [
    "X.shape, y.shape"
   ]
  },
  {
   "cell_type": "code",
   "execution_count": 177,
   "id": "8b36343d",
   "metadata": {},
   "outputs": [],
   "source": [
    "# pd.Series(y).value_counts()"
   ]
  },
  {
   "cell_type": "code",
   "execution_count": 178,
   "id": "6ce9ca23",
   "metadata": {},
   "outputs": [],
   "source": [
    "from sklearn.model_selection import train_test_split\n",
    "X_train,X_test,y_train,y_test=train_test_split(X,y,test_size=0.15,random_state=0)"
   ]
  },
  {
   "cell_type": "code",
   "execution_count": 179,
   "id": "af7f253f",
   "metadata": {},
   "outputs": [],
   "source": [
    "from tensorflow.keras.models import Sequential\n",
    "from tensorflow.keras.layers import Dense,Dropout,Activation,Flatten, Bidirectional, Attention,ELU, Input\n",
    "from tensorflow.keras.optimizers import Adam\n",
    "from sklearn import metrics\n",
    "import tensorflow as tf\n",
    "from keras.layers.recurrent import LSTM\n",
    "from tensorflow.compat.v1.keras.layers import CuDNNLSTM\n",
    "# from attention_keras.layers.attention import AttentionLayer\n",
    "# from keras_self_attention import SeqSelfAttention\n",
    "from tensorflow.keras import initializers\n",
    "from tensorflow.keras import regularizers\n",
    "from tensorflow.keras import constraints\n",
    "from keras.layers.merge import Multiply"
   ]
  },
  {
   "cell_type": "code",
   "execution_count": 180,
   "id": "c36cf3e0",
   "metadata": {},
   "outputs": [
    {
     "data": {
      "text/plain": [
       "array([[1, 0, 0, ..., 0, 0, 0],\n",
       "       [1, 0, 0, ..., 0, 0, 0],\n",
       "       [1, 0, 0, ..., 0, 0, 0],\n",
       "       ...,\n",
       "       [0, 0, 0, ..., 0, 0, 1],\n",
       "       [0, 0, 0, ..., 0, 0, 1],\n",
       "       [0, 0, 0, ..., 0, 0, 1]], dtype=uint8)"
      ]
     },
     "execution_count": 180,
     "metadata": {},
     "output_type": "execute_result"
    }
   ],
   "source": [
    "y"
   ]
  },
  {
   "cell_type": "markdown",
   "id": "54762c3d",
   "metadata": {},
   "source": [
    "### Модель"
   ]
  },
  {
   "cell_type": "code",
   "execution_count": 183,
   "id": "8f4c73c5",
   "metadata": {},
   "outputs": [],
   "source": [
    "input_shape = (130, 13)\n",
    "optimizer  = Adam()\n",
    "n_classes = 11\n",
    "\n",
    "model = Sequential()\n",
    "model.add(LSTM(units=128, dropout=0.05, recurrent_dropout=0.35, return_sequences=True, input_shape=input_shape))\n",
    "model.add(LSTM(units=32,  dropout=0.05, recurrent_dropout=0.35, return_sequences=False))\n",
    "model.add(Dense(units=n_classes, activation=\"softmax\"))\n",
    "# model.add(Dense(n_classes, activation='softmax'))\n",
    "model.compile(loss='categorical_crossentropy',\n",
    "              optimizer=optimizer,\n",
    "              metrics=['acc'])"
   ]
  },
  {
   "cell_type": "code",
   "execution_count": 186,
   "id": "c3f33b80",
   "metadata": {},
   "outputs": [
    {
     "name": "stdout",
     "output_type": "stream",
     "text": [
      "Epoch 1/2\n",
      "696/696 [==============================] - 426s 612ms/step - loss: 1.6612 - acc: 0.4053 - val_loss: 1.6569 - val_acc: 0.4366\n",
      "Epoch 2/2\n",
      "696/696 [==============================] - 427s 614ms/step - loss: 1.6252 - acc: 0.4270 - val_loss: 1.6916 - val_acc: 0.3971\n",
      "Training completed in time:  0:14:13.261720\n"
     ]
    }
   ],
   "source": [
    "## Trianing my model\n",
    "from tensorflow.keras.callbacks import ModelCheckpoint\n",
    "from datetime import datetime \n",
    "\n",
    "num_epochs = 2\n",
    "num_batch_size = 32\n",
    "\n",
    "# checkpointer = ModelCheckpoint(filepath='saved_models/audio_classification11.hdf5', \n",
    "#                                verbose=1, save_best_only=True)\n",
    "start = datetime.now()\n",
    "\n",
    "model.fit(X_train, y_train, batch_size=num_batch_size, epochs=num_epochs, validation_data=(X_test, y_test), verbose=1)\n",
    "\n",
    "\n",
    "duration = datetime.now() - start\n",
    "print(\"Training completed in time: \", duration)"
   ]
  },
  {
   "cell_type": "code",
   "execution_count": 187,
   "id": "3da5637e",
   "metadata": {},
   "outputs": [
    {
     "name": "stdout",
     "output_type": "stream",
     "text": [
      "Epoch 1/10\n",
      "696/696 [==============================] - 427s 614ms/step - loss: 1.6055 - acc: 0.4429 - val_loss: 1.6063 - val_acc: 0.4542\n",
      "Epoch 2/10\n",
      "696/696 [==============================] - 428s 615ms/step - loss: 1.5903 - acc: 0.4500 - val_loss: 1.6128 - val_acc: 0.4585\n",
      "Epoch 3/10\n",
      "696/696 [==============================] - 429s 616ms/step - loss: 1.5764 - acc: 0.4553 - val_loss: 1.6237 - val_acc: 0.4427\n",
      "Epoch 4/10\n",
      "696/696 [==============================] - 428s 614ms/step - loss: 1.5581 - acc: 0.4653 - val_loss: 1.5830 - val_acc: 0.4666\n",
      "Epoch 5/10\n",
      "696/696 [==============================] - 427s 614ms/step - loss: 1.5521 - acc: 0.4674 - val_loss: 1.5778 - val_acc: 0.4557\n",
      "Epoch 6/10\n",
      "696/696 [==============================] - 593s 853ms/step - loss: 1.5388 - acc: 0.4685 - val_loss: 1.5554 - val_acc: 0.4722\n",
      "Epoch 7/10\n",
      "696/696 [==============================] - 604s 868ms/step - loss: 1.5337 - acc: 0.4692 - val_loss: 1.5692 - val_acc: 0.4432\n",
      "Epoch 8/10\n",
      "696/696 [==============================] - 487s 700ms/step - loss: 1.5242 - acc: 0.4740 - val_loss: 1.5305 - val_acc: 0.4855\n",
      "Epoch 9/10\n",
      "696/696 [==============================] - 494s 710ms/step - loss: 1.5207 - acc: 0.4732 - val_loss: 1.5331 - val_acc: 0.4735\n",
      "Epoch 10/10\n",
      "696/696 [==============================] - 463s 666ms/step - loss: 1.5064 - acc: 0.4787 - val_loss: 1.5339 - val_acc: 0.4738\n",
      "Training completed in time:  1:19:41.323812\n"
     ]
    }
   ],
   "source": [
    "num_epochs = 10\n",
    "num_batch_size = 32\n",
    "\n",
    "# checkpointer = ModelCheckpoint(filepath='saved_models/audio_classification11.hdf5', \n",
    "#                                verbose=1, save_best_only=True)\n",
    "start = datetime.now()\n",
    "\n",
    "model.fit(X_train, y_train, batch_size=num_batch_size, epochs=num_epochs, validation_data=(X_test, y_test), verbose=1)\n",
    "\n",
    "\n",
    "duration = datetime.now() - start\n",
    "print(\"Training completed in time: \", duration)"
   ]
  },
  {
   "cell_type": "code",
   "execution_count": 190,
   "id": "1fd80015",
   "metadata": {},
   "outputs": [],
   "source": [
    "# model.save('my_model_2.hdf5') Не работает сохранение модели"
   ]
  },
  {
   "cell_type": "markdown",
   "id": "32b27834",
   "metadata": {},
   "source": [
    "## Модель CNN"
   ]
  },
  {
   "cell_type": "code",
   "execution_count": 222,
   "id": "54e1b249",
   "metadata": {},
   "outputs": [],
   "source": [
    "X1 = X.reshape((26167, 130, 13, 1))"
   ]
  },
  {
   "cell_type": "code",
   "execution_count": 223,
   "id": "408873a4",
   "metadata": {},
   "outputs": [],
   "source": [
    "from sklearn.model_selection import train_test_split\n",
    "X_train,X_test,y_train,y_test=train_test_split(X1,y,test_size=0.15,random_state=0)"
   ]
  },
  {
   "cell_type": "code",
   "execution_count": 224,
   "id": "e84f5aa4",
   "metadata": {},
   "outputs": [],
   "source": [
    "opt = tf.keras.optimizers.RMSprop(lr=0.0005, decay=1e-6)"
   ]
  },
  {
   "cell_type": "code",
   "execution_count": 225,
   "id": "5bbb388b",
   "metadata": {},
   "outputs": [
    {
     "name": "stdout",
     "output_type": "stream",
     "text": [
      "Model: \"sequential_24\"\n",
      "_________________________________________________________________\n",
      "Layer (type)                 Output Shape              Param #   \n",
      "=================================================================\n",
      "conv2d_119 (Conv2D)          (None, 130, 13, 32)       320       \n",
      "_________________________________________________________________\n",
      "activation_125 (Activation)  (None, 130, 13, 32)       0         \n",
      "_________________________________________________________________\n",
      "conv2d_120 (Conv2D)          (None, 128, 11, 64)       18496     \n",
      "_________________________________________________________________\n",
      "activation_126 (Activation)  (None, 128, 11, 64)       0         \n",
      "_________________________________________________________________\n",
      "max_pooling2d_25 (MaxPooling (None, 64, 5, 64)         0         \n",
      "_________________________________________________________________\n",
      "dropout_66 (Dropout)         (None, 64, 5, 64)         0         \n",
      "_________________________________________________________________\n",
      "conv2d_121 (Conv2D)          (None, 64, 5, 64)         36928     \n",
      "_________________________________________________________________\n",
      "activation_127 (Activation)  (None, 64, 5, 64)         0         \n",
      "_________________________________________________________________\n",
      "conv2d_122 (Conv2D)          (None, 62, 3, 64)         36928     \n",
      "_________________________________________________________________\n",
      "activation_128 (Activation)  (None, 62, 3, 64)         0         \n",
      "_________________________________________________________________\n",
      "dropout_67 (Dropout)         (None, 62, 3, 64)         0         \n",
      "_________________________________________________________________\n",
      "conv2d_123 (Conv2D)          (None, 62, 3, 128)        73856     \n",
      "_________________________________________________________________\n",
      "activation_129 (Activation)  (None, 62, 3, 128)        0         \n",
      "_________________________________________________________________\n",
      "conv2d_124 (Conv2D)          (None, 60, 1, 128)        147584    \n",
      "_________________________________________________________________\n",
      "activation_130 (Activation)  (None, 60, 1, 128)        0         \n",
      "_________________________________________________________________\n",
      "dropout_68 (Dropout)         (None, 60, 1, 128)        0         \n",
      "_________________________________________________________________\n",
      "flatten_14 (Flatten)         (None, 7680)              0         \n",
      "_________________________________________________________________\n",
      "dense_28 (Dense)             (None, 512)               3932672   \n",
      "_________________________________________________________________\n",
      "activation_131 (Activation)  (None, 512)               0         \n",
      "_________________________________________________________________\n",
      "dropout_69 (Dropout)         (None, 512)               0         \n",
      "_________________________________________________________________\n",
      "dense_29 (Dense)             (None, 11)                5643      \n",
      "=================================================================\n",
      "Total params: 4,252,427\n",
      "Trainable params: 4,252,427\n",
      "Non-trainable params: 0\n",
      "_________________________________________________________________\n"
     ]
    }
   ],
   "source": [
    "from keras.layers import Dense, Activation, Flatten, Dropout, BatchNormalization\n",
    "from keras.models import Sequential, Model\n",
    "from keras.layers import Conv2D, MaxPooling2D\n",
    "from keras import regularizers, optimizers\n",
    "import pandas as pd\n",
    "import numpy as np\n",
    "\n",
    "model = Sequential()\n",
    "model.add(Conv2D(32, (3, 3), padding='same',\n",
    "                 input_shape=(130, 13, 1)))\n",
    "model.add(Activation('relu'))\n",
    "model.add(Conv2D(64, (3, 3)))\n",
    "model.add(Activation('relu'))\n",
    "model.add(MaxPooling2D(pool_size=(2, 2)))\n",
    "model.add(Dropout(0.25))\n",
    "model.add(Conv2D(64, (3, 3), padding='same'))\n",
    "model.add(Activation('relu'))\n",
    "model.add(Conv2D(64, (3, 3)))\n",
    "model.add(Activation('relu'))\n",
    "# model.add(MaxPooling2D(pool_size=(1, 1)))\n",
    "model.add(Dropout(0.5))\n",
    "model.add(Conv2D(128, (3, 3), padding='same'))\n",
    "model.add(Activation('relu'))\n",
    "model.add(Conv2D(128, (3, 3)))\n",
    "model.add(Activation('relu'))\n",
    "# model.add(MaxPooling2D(pool_size=(2, 2)))\n",
    "model.add(Dropout(0.5))\n",
    "model.add(Flatten())\n",
    "model.add(Dense(512))\n",
    "model.add(Activation('relu'))\n",
    "model.add(Dropout(0.5))\n",
    "model.add(Dense(11, activation='softmax'))\n",
    "model.compile(optimizer = 'rmsprop', loss=\"categorical_crossentropy\", metrics=[\"accuracy\"])\n",
    "model.summary()"
   ]
  },
  {
   "cell_type": "code",
   "execution_count": 226,
   "id": "04f38030",
   "metadata": {},
   "outputs": [
    {
     "name": "stdout",
     "output_type": "stream",
     "text": [
      "Epoch 1/10\n",
      "WARNING:tensorflow:AutoGraph could not transform <function Model.make_train_function.<locals>.train_function at 0x000001C1977AFD30> and will run it as-is.\n",
      "Please report this to the TensorFlow team. When filing the bug, set the verbosity to 10 (on Linux, `export AUTOGRAPH_VERBOSITY=10`) and attach the full output.\n",
      "Cause: closure mismatch, requested ('self', 'step_function'), but source function had ()\n",
      "To silence this warning, decorate the function with @tf.autograph.experimental.do_not_convert\n",
      "WARNING: AutoGraph could not transform <function Model.make_train_function.<locals>.train_function at 0x000001C1977AFD30> and will run it as-is.\n",
      "Please report this to the TensorFlow team. When filing the bug, set the verbosity to 10 (on Linux, `export AUTOGRAPH_VERBOSITY=10`) and attach the full output.\n",
      "Cause: closure mismatch, requested ('self', 'step_function'), but source function had ()\n",
      "To silence this warning, decorate the function with @tf.autograph.experimental.do_not_convert\n",
      "WARNING:tensorflow:AutoGraph could not transform <function Model.make_train_function.<locals>.step_function.<locals>.run_step at 0x000001C1977AF790> and will run it as-is.\n",
      "Please report this to the TensorFlow team. When filing the bug, set the verbosity to 10 (on Linux, `export AUTOGRAPH_VERBOSITY=10`) and attach the full output.\n",
      "Cause: closure mismatch, requested ('model',), but source function had ()\n",
      "To silence this warning, decorate the function with @tf.autograph.experimental.do_not_convert\n",
      "WARNING: AutoGraph could not transform <function Model.make_train_function.<locals>.step_function.<locals>.run_step at 0x000001C1977AF790> and will run it as-is.\n",
      "Please report this to the TensorFlow team. When filing the bug, set the verbosity to 10 (on Linux, `export AUTOGRAPH_VERBOSITY=10`) and attach the full output.\n",
      "Cause: closure mismatch, requested ('model',), but source function had ()\n",
      "To silence this warning, decorate the function with @tf.autograph.experimental.do_not_convert\n",
      "WARNING:tensorflow:AutoGraph could not transform <bound method LossFunctionWrapper.call of <keras.losses.LossFunctionWrapper object at 0x000001C1B0BE8EE0>> and will run it as-is.\n",
      "Please report this to the TensorFlow team. When filing the bug, set the verbosity to 10 (on Linux, `export AUTOGRAPH_VERBOSITY=10`) and attach the full output.\n",
      "Cause: Unable to locate the source code of <bound method LossFunctionWrapper.call of <keras.losses.LossFunctionWrapper object at 0x000001C1B0BE8EE0>>. Note that functions defined in certain environments, like the interactive Python shell do not expose their source code. If that is the case, you should to define them in a .py source file. If you are certain the code is graph-compatible, wrap the call using @tf.autograph.do_not_convert. Original error: lineno is out of bounds\n",
      "To silence this warning, decorate the function with @tf.autograph.experimental.do_not_convert\n",
      "WARNING: AutoGraph could not transform <bound method LossFunctionWrapper.call of <keras.losses.LossFunctionWrapper object at 0x000001C1B0BE8EE0>> and will run it as-is.\n",
      "Please report this to the TensorFlow team. When filing the bug, set the verbosity to 10 (on Linux, `export AUTOGRAPH_VERBOSITY=10`) and attach the full output.\n",
      "Cause: Unable to locate the source code of <bound method LossFunctionWrapper.call of <keras.losses.LossFunctionWrapper object at 0x000001C1B0BE8EE0>>. Note that functions defined in certain environments, like the interactive Python shell do not expose their source code. If that is the case, you should to define them in a .py source file. If you are certain the code is graph-compatible, wrap the call using @tf.autograph.do_not_convert. Original error: lineno is out of bounds\n",
      "To silence this warning, decorate the function with @tf.autograph.experimental.do_not_convert\n",
      "WARNING:tensorflow:AutoGraph could not transform <bound method Reduce.update_state of <keras.metrics.Mean object at 0x000001C1B0EF5E50>> and will run it as-is.\n",
      "Please report this to the TensorFlow team. When filing the bug, set the verbosity to 10 (on Linux, `export AUTOGRAPH_VERBOSITY=10`) and attach the full output.\n",
      "Cause: Unable to locate the source code of <bound method Reduce.update_state of <keras.metrics.Mean object at 0x000001C1B0EF5E50>>. Note that functions defined in certain environments, like the interactive Python shell do not expose their source code. If that is the case, you should to define them in a .py source file. If you are certain the code is graph-compatible, wrap the call using @tf.autograph.do_not_convert. Original error: lineno is out of bounds\n",
      "To silence this warning, decorate the function with @tf.autograph.experimental.do_not_convert\n",
      "WARNING: AutoGraph could not transform <bound method Reduce.update_state of <keras.metrics.Mean object at 0x000001C1B0EF5E50>> and will run it as-is.\n",
      "Please report this to the TensorFlow team. When filing the bug, set the verbosity to 10 (on Linux, `export AUTOGRAPH_VERBOSITY=10`) and attach the full output.\n",
      "Cause: Unable to locate the source code of <bound method Reduce.update_state of <keras.metrics.Mean object at 0x000001C1B0EF5E50>>. Note that functions defined in certain environments, like the interactive Python shell do not expose their source code. If that is the case, you should to define them in a .py source file. If you are certain the code is graph-compatible, wrap the call using @tf.autograph.do_not_convert. Original error: lineno is out of bounds\n",
      "To silence this warning, decorate the function with @tf.autograph.experimental.do_not_convert\n",
      "WARNING:tensorflow:AutoGraph could not transform <bound method MeanMetricWrapper.update_state of <keras.metrics.MeanMetricWrapper object at 0x000001C1B0C085E0>> and will run it as-is.\n",
      "Please report this to the TensorFlow team. When filing the bug, set the verbosity to 10 (on Linux, `export AUTOGRAPH_VERBOSITY=10`) and attach the full output.\n",
      "Cause: Unable to locate the source code of <bound method MeanMetricWrapper.update_state of <keras.metrics.MeanMetricWrapper object at 0x000001C1B0C085E0>>. Note that functions defined in certain environments, like the interactive Python shell do not expose their source code. If that is the case, you should to define them in a .py source file. If you are certain the code is graph-compatible, wrap the call using @tf.autograph.do_not_convert. Original error: lineno is out of bounds\n",
      "To silence this warning, decorate the function with @tf.autograph.experimental.do_not_convert\n",
      "WARNING: AutoGraph could not transform <bound method MeanMetricWrapper.update_state of <keras.metrics.MeanMetricWrapper object at 0x000001C1B0C085E0>> and will run it as-is.\n",
      "Please report this to the TensorFlow team. When filing the bug, set the verbosity to 10 (on Linux, `export AUTOGRAPH_VERBOSITY=10`) and attach the full output.\n",
      "Cause: Unable to locate the source code of <bound method MeanMetricWrapper.update_state of <keras.metrics.MeanMetricWrapper object at 0x000001C1B0C085E0>>. Note that functions defined in certain environments, like the interactive Python shell do not expose their source code. If that is the case, you should to define them in a .py source file. If you are certain the code is graph-compatible, wrap the call using @tf.autograph.do_not_convert. Original error: lineno is out of bounds\n",
      "To silence this warning, decorate the function with @tf.autograph.experimental.do_not_convert\n",
      "WARNING:tensorflow:AutoGraph could not transform <bound method Reduce.result of <keras.metrics.Mean object at 0x000001C1B0EF5E50>> and will run it as-is.\n",
      "Please report this to the TensorFlow team. When filing the bug, set the verbosity to 10 (on Linux, `export AUTOGRAPH_VERBOSITY=10`) and attach the full output.\n",
      "Cause: Unable to locate the source code of <bound method Reduce.result of <keras.metrics.Mean object at 0x000001C1B0EF5E50>>. Note that functions defined in certain environments, like the interactive Python shell do not expose their source code. If that is the case, you should to define them in a .py source file. If you are certain the code is graph-compatible, wrap the call using @tf.autograph.do_not_convert. Original error: lineno is out of bounds\n",
      "To silence this warning, decorate the function with @tf.autograph.experimental.do_not_convert\n"
     ]
    },
    {
     "name": "stdout",
     "output_type": "stream",
     "text": [
      "WARNING: AutoGraph could not transform <bound method Reduce.result of <keras.metrics.Mean object at 0x000001C1B0EF5E50>> and will run it as-is.\n",
      "Please report this to the TensorFlow team. When filing the bug, set the verbosity to 10 (on Linux, `export AUTOGRAPH_VERBOSITY=10`) and attach the full output.\n",
      "Cause: Unable to locate the source code of <bound method Reduce.result of <keras.metrics.Mean object at 0x000001C1B0EF5E50>>. Note that functions defined in certain environments, like the interactive Python shell do not expose their source code. If that is the case, you should to define them in a .py source file. If you are certain the code is graph-compatible, wrap the call using @tf.autograph.do_not_convert. Original error: lineno is out of bounds\n",
      "To silence this warning, decorate the function with @tf.autograph.experimental.do_not_convert\n",
      "WARNING:tensorflow:AutoGraph could not transform <function Model.make_train_function.<locals>.step_function.<locals>.run_step at 0x000001C191729E50> and will run it as-is.\n",
      "Please report this to the TensorFlow team. When filing the bug, set the verbosity to 10 (on Linux, `export AUTOGRAPH_VERBOSITY=10`) and attach the full output.\n",
      "Cause: closure mismatch, requested ('model',), but source function had ()\n",
      "To silence this warning, decorate the function with @tf.autograph.experimental.do_not_convert\n",
      "WARNING: AutoGraph could not transform <function Model.make_train_function.<locals>.step_function.<locals>.run_step at 0x000001C191729E50> and will run it as-is.\n",
      "Please report this to the TensorFlow team. When filing the bug, set the verbosity to 10 (on Linux, `export AUTOGRAPH_VERBOSITY=10`) and attach the full output.\n",
      "Cause: closure mismatch, requested ('model',), but source function had ()\n",
      "To silence this warning, decorate the function with @tf.autograph.experimental.do_not_convert\n",
      "696/696 [==============================] - ETA: 0s - loss: 2.6220 - accuracy: 0.3251WARNING:tensorflow:AutoGraph could not transform <function Model.make_test_function.<locals>.test_function at 0x000001C197F96820> and will run it as-is.\n",
      "Please report this to the TensorFlow team. When filing the bug, set the verbosity to 10 (on Linux, `export AUTOGRAPH_VERBOSITY=10`) and attach the full output.\n",
      "Cause: closure mismatch, requested ('self', 'step_function'), but source function had ()\n",
      "To silence this warning, decorate the function with @tf.autograph.experimental.do_not_convert\n",
      "WARNING: AutoGraph could not transform <function Model.make_test_function.<locals>.test_function at 0x000001C197F96820> and will run it as-is.\n",
      "Please report this to the TensorFlow team. When filing the bug, set the verbosity to 10 (on Linux, `export AUTOGRAPH_VERBOSITY=10`) and attach the full output.\n",
      "Cause: closure mismatch, requested ('self', 'step_function'), but source function had ()\n",
      "To silence this warning, decorate the function with @tf.autograph.experimental.do_not_convert\n",
      "WARNING:tensorflow:AutoGraph could not transform <function Model.make_test_function.<locals>.step_function.<locals>.run_step at 0x000001C1917299D0> and will run it as-is.\n",
      "Please report this to the TensorFlow team. When filing the bug, set the verbosity to 10 (on Linux, `export AUTOGRAPH_VERBOSITY=10`) and attach the full output.\n",
      "Cause: closure mismatch, requested ('model',), but source function had ()\n",
      "To silence this warning, decorate the function with @tf.autograph.experimental.do_not_convert\n",
      "WARNING: AutoGraph could not transform <function Model.make_test_function.<locals>.step_function.<locals>.run_step at 0x000001C1917299D0> and will run it as-is.\n",
      "Please report this to the TensorFlow team. When filing the bug, set the verbosity to 10 (on Linux, `export AUTOGRAPH_VERBOSITY=10`) and attach the full output.\n",
      "Cause: closure mismatch, requested ('model',), but source function had ()\n",
      "To silence this warning, decorate the function with @tf.autograph.experimental.do_not_convert\n",
      "696/696 [==============================] - 153s 218ms/step - loss: 2.6210 - accuracy: 0.3251 - val_loss: 1.9281 - val_accuracy: 0.3647\n",
      "Epoch 2/10\n",
      "696/696 [==============================] - 151s 217ms/step - loss: 1.6937 - accuracy: 0.3673 - val_loss: 1.6975 - val_accuracy: 0.3724\n",
      "Epoch 3/10\n",
      "696/696 [==============================] - 151s 217ms/step - loss: 1.6906 - accuracy: 0.3822 - val_loss: 1.7355 - val_accuracy: 0.3816\n",
      "Epoch 4/10\n",
      "696/696 [==============================] - 151s 216ms/step - loss: 1.6869 - accuracy: 0.3840 - val_loss: 2.4178 - val_accuracy: 0.1452\n",
      "Epoch 5/10\n",
      "696/696 [==============================] - 151s 217ms/step - loss: 1.6980 - accuracy: 0.3835 - val_loss: 1.6974 - val_accuracy: 0.3961\n",
      "Epoch 6/10\n",
      "696/696 [==============================] - 151s 217ms/step - loss: 1.6789 - accuracy: 0.3855 - val_loss: 1.7305 - val_accuracy: 0.3833\n",
      "Epoch 7/10\n",
      "696/696 [==============================] - 151s 217ms/step - loss: 1.6981 - accuracy: 0.3852 - val_loss: 1.6731 - val_accuracy: 0.3953\n",
      "Epoch 8/10\n",
      "696/696 [==============================] - 151s 217ms/step - loss: 1.6969 - accuracy: 0.3860 - val_loss: 1.6874 - val_accuracy: 0.3795\n",
      "Epoch 9/10\n",
      "696/696 [==============================] - 151s 217ms/step - loss: 1.6927 - accuracy: 0.3951 - val_loss: 1.6753 - val_accuracy: 0.4022\n",
      "Epoch 10/10\n",
      "696/696 [==============================] - 153s 220ms/step - loss: 1.7485 - accuracy: 0.3867 - val_loss: 1.6585 - val_accuracy: 0.3925\n",
      "Training completed in time:  0:25:13.955972\n"
     ]
    }
   ],
   "source": [
    "num_epochs = 10\n",
    "num_batch_size = 32\n",
    "\n",
    "# checkpointer = ModelCheckpoint(filepath='saved_models/audio_classification11.hdf5', \n",
    "#                                verbose=1, save_best_only=True)\n",
    "start = datetime.now()\n",
    "\n",
    "model.fit(X_train, y_train, batch_size=num_batch_size, epochs=num_epochs, validation_data=(X_test, y_test), verbose=1)\n",
    "\n",
    "\n",
    "duration = datetime.now() - start\n",
    "print(\"Training completed in time: \", duration)"
   ]
  },
  {
   "cell_type": "code",
   "execution_count": 227,
   "id": "8b1fdfde",
   "metadata": {},
   "outputs": [
    {
     "name": "stdout",
     "output_type": "stream",
     "text": [
      "Epoch 1/10\n",
      "696/696 [==============================] - 152s 218ms/step - loss: 1.7054 - accuracy: 0.3845 - val_loss: 1.6644 - val_accuracy: 0.4019\n",
      "Epoch 2/10\n",
      "696/696 [==============================] - 152s 218ms/step - loss: 1.7048 - accuracy: 0.3835 - val_loss: 1.6974 - val_accuracy: 0.3895\n",
      "Epoch 3/10\n",
      "696/696 [==============================] - 152s 218ms/step - loss: 1.7032 - accuracy: 0.3799 - val_loss: 1.8223 - val_accuracy: 0.3395\n",
      "Epoch 4/10\n",
      "696/696 [==============================] - 151s 217ms/step - loss: 1.7105 - accuracy: 0.3800 - val_loss: 1.9246 - val_accuracy: 0.2677\n",
      "Epoch 5/10\n",
      "696/696 [==============================] - 154s 221ms/step - loss: 1.7046 - accuracy: 0.3787 - val_loss: 1.7051 - val_accuracy: 0.3900\n",
      "Epoch 6/10\n",
      "696/696 [==============================] - 156s 225ms/step - loss: 1.7062 - accuracy: 0.3802 - val_loss: 1.7627 - val_accuracy: 0.3459\n",
      "Epoch 7/10\n",
      "696/696 [==============================] - 155s 223ms/step - loss: 1.7178 - accuracy: 0.3797 - val_loss: 1.6718 - val_accuracy: 0.3963\n",
      "Epoch 8/10\n",
      "696/696 [==============================] - 157s 225ms/step - loss: 1.7116 - accuracy: 0.3771 - val_loss: 1.6778 - val_accuracy: 0.3698\n",
      "Epoch 9/10\n",
      " 26/696 [>.............................] - ETA: 2:22 - loss: 1.6577 - accuracy: 0.3966"
     ]
    },
    {
     "ename": "KeyboardInterrupt",
     "evalue": "",
     "output_type": "error",
     "traceback": [
      "\u001b[1;31m---------------------------------------------------------------------------\u001b[0m",
      "\u001b[1;31mKeyboardInterrupt\u001b[0m                         Traceback (most recent call last)",
      "\u001b[1;32m<ipython-input-227-7c4c81ebdd49>\u001b[0m in \u001b[0;36m<module>\u001b[1;34m\u001b[0m\n\u001b[0;32m      6\u001b[0m \u001b[0mstart\u001b[0m \u001b[1;33m=\u001b[0m \u001b[0mdatetime\u001b[0m\u001b[1;33m.\u001b[0m\u001b[0mnow\u001b[0m\u001b[1;33m(\u001b[0m\u001b[1;33m)\u001b[0m\u001b[1;33m\u001b[0m\u001b[1;33m\u001b[0m\u001b[0m\n\u001b[0;32m      7\u001b[0m \u001b[1;33m\u001b[0m\u001b[0m\n\u001b[1;32m----> 8\u001b[1;33m \u001b[0mmodel\u001b[0m\u001b[1;33m.\u001b[0m\u001b[0mfit\u001b[0m\u001b[1;33m(\u001b[0m\u001b[0mX_train\u001b[0m\u001b[1;33m,\u001b[0m \u001b[0my_train\u001b[0m\u001b[1;33m,\u001b[0m \u001b[0mbatch_size\u001b[0m\u001b[1;33m=\u001b[0m\u001b[0mnum_batch_size\u001b[0m\u001b[1;33m,\u001b[0m \u001b[0mepochs\u001b[0m\u001b[1;33m=\u001b[0m\u001b[0mnum_epochs\u001b[0m\u001b[1;33m,\u001b[0m \u001b[0mvalidation_data\u001b[0m\u001b[1;33m=\u001b[0m\u001b[1;33m(\u001b[0m\u001b[0mX_test\u001b[0m\u001b[1;33m,\u001b[0m \u001b[0my_test\u001b[0m\u001b[1;33m)\u001b[0m\u001b[1;33m,\u001b[0m \u001b[0mverbose\u001b[0m\u001b[1;33m=\u001b[0m\u001b[1;36m1\u001b[0m\u001b[1;33m)\u001b[0m\u001b[1;33m\u001b[0m\u001b[1;33m\u001b[0m\u001b[0m\n\u001b[0m\u001b[0;32m      9\u001b[0m \u001b[1;33m\u001b[0m\u001b[0m\n\u001b[0;32m     10\u001b[0m \u001b[1;33m\u001b[0m\u001b[0m\n",
      "\u001b[1;32mc:\\users\\79217\\appdata\\local\\programs\\python\\python39\\lib\\site-packages\\keras\\engine\\training.py\u001b[0m in \u001b[0;36mfit\u001b[1;34m(self, x, y, batch_size, epochs, verbose, callbacks, validation_split, validation_data, shuffle, class_weight, sample_weight, initial_epoch, steps_per_epoch, validation_steps, validation_batch_size, validation_freq, max_queue_size, workers, use_multiprocessing)\u001b[0m\n\u001b[0;32m   1156\u001b[0m                                  \u001b[0mstr\u001b[0m\u001b[1;33m(\u001b[0m\u001b[0mx\u001b[0m\u001b[1;33m[\u001b[0m\u001b[1;36m0\u001b[0m\u001b[1;33m]\u001b[0m\u001b[1;33m.\u001b[0m\u001b[0mshape\u001b[0m\u001b[1;33m[\u001b[0m\u001b[1;36m0\u001b[0m\u001b[1;33m]\u001b[0m\u001b[1;33m)\u001b[0m \u001b[1;33m+\u001b[0m \u001b[1;34m' samples. '\u001b[0m\u001b[1;33m\u001b[0m\u001b[1;33m\u001b[0m\u001b[0m\n\u001b[0;32m   1157\u001b[0m                                  'Batch size: ' + str(batch_size) + '.')\n\u001b[1;32m-> 1158\u001b[1;33m \u001b[1;33m\u001b[0m\u001b[0m\n\u001b[0m\u001b[0;32m   1159\u001b[0m         \u001b[1;31m# Prepare inputs, delegate logic to `predict_loop`.\u001b[0m\u001b[1;33m\u001b[0m\u001b[1;33m\u001b[0m\u001b[1;33m\u001b[0m\u001b[0m\n\u001b[0;32m   1160\u001b[0m         \u001b[1;32mif\u001b[0m \u001b[0mself\u001b[0m\u001b[1;33m.\u001b[0m\u001b[0m_uses_dynamic_learning_phase\u001b[0m\u001b[1;33m(\u001b[0m\u001b[1;33m)\u001b[0m\u001b[1;33m:\u001b[0m\u001b[1;33m\u001b[0m\u001b[1;33m\u001b[0m\u001b[0m\n",
      "\u001b[1;32mc:\\users\\79217\\appdata\\local\\programs\\python\\python39\\lib\\site-packages\\tensorflow\\python\\eager\\def_function.py\u001b[0m in \u001b[0;36m__call__\u001b[1;34m(self, *args, **kwds)\u001b[0m\n\u001b[0;32m    887\u001b[0m \u001b[1;33m\u001b[0m\u001b[0m\n\u001b[0;32m    888\u001b[0m       \u001b[1;32mwith\u001b[0m \u001b[0mOptionalXlaContext\u001b[0m\u001b[1;33m(\u001b[0m\u001b[0mself\u001b[0m\u001b[1;33m.\u001b[0m\u001b[0m_jit_compile\u001b[0m\u001b[1;33m)\u001b[0m\u001b[1;33m:\u001b[0m\u001b[1;33m\u001b[0m\u001b[1;33m\u001b[0m\u001b[0m\n\u001b[1;32m--> 889\u001b[1;33m         \u001b[0mresult\u001b[0m \u001b[1;33m=\u001b[0m \u001b[0mself\u001b[0m\u001b[1;33m.\u001b[0m\u001b[0m_call\u001b[0m\u001b[1;33m(\u001b[0m\u001b[1;33m*\u001b[0m\u001b[0margs\u001b[0m\u001b[1;33m,\u001b[0m \u001b[1;33m**\u001b[0m\u001b[0mkwds\u001b[0m\u001b[1;33m)\u001b[0m\u001b[1;33m\u001b[0m\u001b[1;33m\u001b[0m\u001b[0m\n\u001b[0m\u001b[0;32m    890\u001b[0m \u001b[1;33m\u001b[0m\u001b[0m\n\u001b[0;32m    891\u001b[0m       \u001b[0mnew_tracing_count\u001b[0m \u001b[1;33m=\u001b[0m \u001b[0mself\u001b[0m\u001b[1;33m.\u001b[0m\u001b[0mexperimental_get_tracing_count\u001b[0m\u001b[1;33m(\u001b[0m\u001b[1;33m)\u001b[0m\u001b[1;33m\u001b[0m\u001b[1;33m\u001b[0m\u001b[0m\n",
      "\u001b[1;32mc:\\users\\79217\\appdata\\local\\programs\\python\\python39\\lib\\site-packages\\tensorflow\\python\\eager\\def_function.py\u001b[0m in \u001b[0;36m_call\u001b[1;34m(self, *args, **kwds)\u001b[0m\n\u001b[0;32m    915\u001b[0m       \u001b[1;31m# In this case we have created variables on the first call, so we run the\u001b[0m\u001b[1;33m\u001b[0m\u001b[1;33m\u001b[0m\u001b[1;33m\u001b[0m\u001b[0m\n\u001b[0;32m    916\u001b[0m       \u001b[1;31m# defunned version which is guaranteed to never create variables.\u001b[0m\u001b[1;33m\u001b[0m\u001b[1;33m\u001b[0m\u001b[1;33m\u001b[0m\u001b[0m\n\u001b[1;32m--> 917\u001b[1;33m       \u001b[1;32mreturn\u001b[0m \u001b[0mself\u001b[0m\u001b[1;33m.\u001b[0m\u001b[0m_stateless_fn\u001b[0m\u001b[1;33m(\u001b[0m\u001b[1;33m*\u001b[0m\u001b[0margs\u001b[0m\u001b[1;33m,\u001b[0m \u001b[1;33m**\u001b[0m\u001b[0mkwds\u001b[0m\u001b[1;33m)\u001b[0m  \u001b[1;31m# pylint: disable=not-callable\u001b[0m\u001b[1;33m\u001b[0m\u001b[1;33m\u001b[0m\u001b[0m\n\u001b[0m\u001b[0;32m    918\u001b[0m     \u001b[1;32melif\u001b[0m \u001b[0mself\u001b[0m\u001b[1;33m.\u001b[0m\u001b[0m_stateful_fn\u001b[0m \u001b[1;32mis\u001b[0m \u001b[1;32mnot\u001b[0m \u001b[1;32mNone\u001b[0m\u001b[1;33m:\u001b[0m\u001b[1;33m\u001b[0m\u001b[1;33m\u001b[0m\u001b[0m\n\u001b[0;32m    919\u001b[0m       \u001b[1;31m# Release the lock early so that multiple threads can perform the call\u001b[0m\u001b[1;33m\u001b[0m\u001b[1;33m\u001b[0m\u001b[1;33m\u001b[0m\u001b[0m\n",
      "\u001b[1;32mc:\\users\\79217\\appdata\\local\\programs\\python\\python39\\lib\\site-packages\\tensorflow\\python\\eager\\function.py\u001b[0m in \u001b[0;36m__call__\u001b[1;34m(self, *args, **kwargs)\u001b[0m\n\u001b[0;32m   3021\u001b[0m       (graph_function,\n\u001b[0;32m   3022\u001b[0m        filtered_flat_args) = self._maybe_define_function(args, kwargs)\n\u001b[1;32m-> 3023\u001b[1;33m     return graph_function._call_flat(\n\u001b[0m\u001b[0;32m   3024\u001b[0m         filtered_flat_args, captured_inputs=graph_function.captured_inputs)  # pylint: disable=protected-access\n\u001b[0;32m   3025\u001b[0m \u001b[1;33m\u001b[0m\u001b[0m\n",
      "\u001b[1;32mc:\\users\\79217\\appdata\\local\\programs\\python\\python39\\lib\\site-packages\\tensorflow\\python\\eager\\function.py\u001b[0m in \u001b[0;36m_call_flat\u001b[1;34m(self, args, captured_inputs, cancellation_manager)\u001b[0m\n\u001b[0;32m   1958\u001b[0m         and executing_eagerly):\n\u001b[0;32m   1959\u001b[0m       \u001b[1;31m# No tape is watching; skip to running the function.\u001b[0m\u001b[1;33m\u001b[0m\u001b[1;33m\u001b[0m\u001b[1;33m\u001b[0m\u001b[0m\n\u001b[1;32m-> 1960\u001b[1;33m       return self._build_call_outputs(self._inference_function.call(\n\u001b[0m\u001b[0;32m   1961\u001b[0m           ctx, args, cancellation_manager=cancellation_manager))\n\u001b[0;32m   1962\u001b[0m     forward_backward = self._select_forward_and_backward_functions(\n",
      "\u001b[1;32mc:\\users\\79217\\appdata\\local\\programs\\python\\python39\\lib\\site-packages\\tensorflow\\python\\eager\\function.py\u001b[0m in \u001b[0;36mcall\u001b[1;34m(self, ctx, args, cancellation_manager)\u001b[0m\n\u001b[0;32m    589\u001b[0m       \u001b[1;32mwith\u001b[0m \u001b[0m_InterpolateFunctionError\u001b[0m\u001b[1;33m(\u001b[0m\u001b[0mself\u001b[0m\u001b[1;33m)\u001b[0m\u001b[1;33m:\u001b[0m\u001b[1;33m\u001b[0m\u001b[1;33m\u001b[0m\u001b[0m\n\u001b[0;32m    590\u001b[0m         \u001b[1;32mif\u001b[0m \u001b[0mcancellation_manager\u001b[0m \u001b[1;32mis\u001b[0m \u001b[1;32mNone\u001b[0m\u001b[1;33m:\u001b[0m\u001b[1;33m\u001b[0m\u001b[1;33m\u001b[0m\u001b[0m\n\u001b[1;32m--> 591\u001b[1;33m           outputs = execute.execute(\n\u001b[0m\u001b[0;32m    592\u001b[0m               \u001b[0mstr\u001b[0m\u001b[1;33m(\u001b[0m\u001b[0mself\u001b[0m\u001b[1;33m.\u001b[0m\u001b[0msignature\u001b[0m\u001b[1;33m.\u001b[0m\u001b[0mname\u001b[0m\u001b[1;33m)\u001b[0m\u001b[1;33m,\u001b[0m\u001b[1;33m\u001b[0m\u001b[1;33m\u001b[0m\u001b[0m\n\u001b[0;32m    593\u001b[0m               \u001b[0mnum_outputs\u001b[0m\u001b[1;33m=\u001b[0m\u001b[0mself\u001b[0m\u001b[1;33m.\u001b[0m\u001b[0m_num_outputs\u001b[0m\u001b[1;33m,\u001b[0m\u001b[1;33m\u001b[0m\u001b[1;33m\u001b[0m\u001b[0m\n",
      "\u001b[1;32mc:\\users\\79217\\appdata\\local\\programs\\python\\python39\\lib\\site-packages\\tensorflow\\python\\eager\\execute.py\u001b[0m in \u001b[0;36mquick_execute\u001b[1;34m(op_name, num_outputs, inputs, attrs, ctx, name)\u001b[0m\n\u001b[0;32m     57\u001b[0m   \u001b[1;32mtry\u001b[0m\u001b[1;33m:\u001b[0m\u001b[1;33m\u001b[0m\u001b[1;33m\u001b[0m\u001b[0m\n\u001b[0;32m     58\u001b[0m     \u001b[0mctx\u001b[0m\u001b[1;33m.\u001b[0m\u001b[0mensure_initialized\u001b[0m\u001b[1;33m(\u001b[0m\u001b[1;33m)\u001b[0m\u001b[1;33m\u001b[0m\u001b[1;33m\u001b[0m\u001b[0m\n\u001b[1;32m---> 59\u001b[1;33m     tensors = pywrap_tfe.TFE_Py_Execute(ctx._handle, device_name, op_name,\n\u001b[0m\u001b[0;32m     60\u001b[0m                                         inputs, attrs, num_outputs)\n\u001b[0;32m     61\u001b[0m   \u001b[1;32mexcept\u001b[0m \u001b[0mcore\u001b[0m\u001b[1;33m.\u001b[0m\u001b[0m_NotOkStatusException\u001b[0m \u001b[1;32mas\u001b[0m \u001b[0me\u001b[0m\u001b[1;33m:\u001b[0m\u001b[1;33m\u001b[0m\u001b[1;33m\u001b[0m\u001b[0m\n",
      "\u001b[1;31mKeyboardInterrupt\u001b[0m: "
     ]
    }
   ],
   "source": [
    "num_epochs = 10\n",
    "num_batch_size = 32\n",
    "\n",
    "# checkpointer = ModelCheckpoint(filepath='saved_models/audio_classification11.hdf5', \n",
    "#                                verbose=1, save_best_only=True)\n",
    "start = datetime.now()\n",
    "\n",
    "model.fit(X_train, y_train, batch_size=num_batch_size, epochs=num_epochs, validation_data=(X_test, y_test), verbose=1)\n",
    "\n",
    "\n",
    "duration = datetime.now() - start\n",
    "print(\"Training completed in time: \", duration)"
   ]
  },
  {
   "cell_type": "markdown",
   "id": "dcfb8274",
   "metadata": {},
   "source": [
    "## CNN + RNN"
   ]
  },
  {
   "cell_type": "code",
   "execution_count": 233,
   "id": "c29031d0",
   "metadata": {},
   "outputs": [],
   "source": [
    "from keras.layers import Conv1D, MaxPooling1D"
   ]
  },
  {
   "cell_type": "code",
   "execution_count": 235,
   "id": "f617ab29",
   "metadata": {},
   "outputs": [],
   "source": [
    "model = Sequential()\n",
    "model.add(Conv1D(filters=32, kernel_size=3, padding='same', activation='relu', input_shape=(130, 13)))\n",
    "model.add(MaxPooling1D(pool_size=2))\n",
    "model.add(LSTM(units=128, dropout=0.05, recurrent_dropout=0.35, return_sequences=True))\n",
    "model.add(LSTM(units=32,  dropout=0.05, recurrent_dropout=0.35, return_sequences=False))\n",
    "model.add(Dense(units=11, activation=\"softmax\"))\n",
    "# model.add(Dense(n_classes, activation='softmax'))\n",
    "model.compile(loss='categorical_crossentropy',\n",
    "              optimizer='adam',\n",
    "              metrics=['acc'])"
   ]
  },
  {
   "cell_type": "code",
   "execution_count": 236,
   "id": "7d3281f4",
   "metadata": {},
   "outputs": [],
   "source": [
    "from sklearn.model_selection import train_test_split\n",
    "X_train,X_test,y_train,y_test=train_test_split(X,y,test_size=0.15,random_state=0)"
   ]
  },
  {
   "cell_type": "code",
   "execution_count": null,
   "id": "b2071e46",
   "metadata": {},
   "outputs": [],
   "source": [
    "X.shape, y.shape"
   ]
  },
  {
   "cell_type": "code",
   "execution_count": null,
   "id": "4becebac",
   "metadata": {},
   "outputs": [
    {
     "name": "stdout",
     "output_type": "stream",
     "text": [
      "Epoch 1/100\n",
      "WARNING:tensorflow:AutoGraph could not transform <function Model.make_train_function.<locals>.train_function at 0x000001C197771160> and will run it as-is.\n",
      "Please report this to the TensorFlow team. When filing the bug, set the verbosity to 10 (on Linux, `export AUTOGRAPH_VERBOSITY=10`) and attach the full output.\n",
      "Cause: closure mismatch, requested ('self', 'step_function'), but source function had ()\n",
      "To silence this warning, decorate the function with @tf.autograph.experimental.do_not_convert\n",
      "WARNING: AutoGraph could not transform <function Model.make_train_function.<locals>.train_function at 0x000001C197771160> and will run it as-is.\n",
      "Please report this to the TensorFlow team. When filing the bug, set the verbosity to 10 (on Linux, `export AUTOGRAPH_VERBOSITY=10`) and attach the full output.\n",
      "Cause: closure mismatch, requested ('self', 'step_function'), but source function had ()\n",
      "To silence this warning, decorate the function with @tf.autograph.experimental.do_not_convert\n",
      "WARNING:tensorflow:AutoGraph could not transform <function Model.make_train_function.<locals>.step_function.<locals>.run_step at 0x000001C197771430> and will run it as-is.\n",
      "Please report this to the TensorFlow team. When filing the bug, set the verbosity to 10 (on Linux, `export AUTOGRAPH_VERBOSITY=10`) and attach the full output.\n",
      "Cause: closure mismatch, requested ('model',), but source function had ()\n",
      "To silence this warning, decorate the function with @tf.autograph.experimental.do_not_convert\n",
      "WARNING: AutoGraph could not transform <function Model.make_train_function.<locals>.step_function.<locals>.run_step at 0x000001C197771430> and will run it as-is.\n",
      "Please report this to the TensorFlow team. When filing the bug, set the verbosity to 10 (on Linux, `export AUTOGRAPH_VERBOSITY=10`) and attach the full output.\n",
      "Cause: closure mismatch, requested ('model',), but source function had ()\n",
      "To silence this warning, decorate the function with @tf.autograph.experimental.do_not_convert\n",
      "WARNING:tensorflow:AutoGraph could not transform <function Model.make_train_function.<locals>.step_function.<locals>.run_step at 0x000001C1A470E670> and will run it as-is.\n",
      "Please report this to the TensorFlow team. When filing the bug, set the verbosity to 10 (on Linux, `export AUTOGRAPH_VERBOSITY=10`) and attach the full output.\n",
      "Cause: closure mismatch, requested ('model',), but source function had ()\n",
      "To silence this warning, decorate the function with @tf.autograph.experimental.do_not_convert\n",
      "WARNING: AutoGraph could not transform <function Model.make_train_function.<locals>.step_function.<locals>.run_step at 0x000001C1A470E670> and will run it as-is.\n",
      "Please report this to the TensorFlow team. When filing the bug, set the verbosity to 10 (on Linux, `export AUTOGRAPH_VERBOSITY=10`) and attach the full output.\n",
      "Cause: closure mismatch, requested ('model',), but source function had ()\n",
      "To silence this warning, decorate the function with @tf.autograph.experimental.do_not_convert\n",
      "696/696 [==============================] - ETA: 0s - loss: 1.7902 - acc: 0.3493WARNING:tensorflow:AutoGraph could not transform <function Model.make_test_function.<locals>.test_function at 0x000001C187F34940> and will run it as-is.\n",
      "Please report this to the TensorFlow team. When filing the bug, set the verbosity to 10 (on Linux, `export AUTOGRAPH_VERBOSITY=10`) and attach the full output.\n",
      "Cause: closure mismatch, requested ('self', 'step_function'), but source function had ()\n",
      "To silence this warning, decorate the function with @tf.autograph.experimental.do_not_convert\n",
      "WARNING: AutoGraph could not transform <function Model.make_test_function.<locals>.test_function at 0x000001C187F34940> and will run it as-is.\n",
      "Please report this to the TensorFlow team. When filing the bug, set the verbosity to 10 (on Linux, `export AUTOGRAPH_VERBOSITY=10`) and attach the full output.\n",
      "Cause: closure mismatch, requested ('self', 'step_function'), but source function had ()\n",
      "To silence this warning, decorate the function with @tf.autograph.experimental.do_not_convert\n",
      "WARNING:tensorflow:AutoGraph could not transform <function Model.make_test_function.<locals>.step_function.<locals>.run_step at 0x000001C187F34790> and will run it as-is.\n",
      "Please report this to the TensorFlow team. When filing the bug, set the verbosity to 10 (on Linux, `export AUTOGRAPH_VERBOSITY=10`) and attach the full output.\n",
      "Cause: closure mismatch, requested ('model',), but source function had ()\n",
      "To silence this warning, decorate the function with @tf.autograph.experimental.do_not_convert\n",
      "WARNING: AutoGraph could not transform <function Model.make_test_function.<locals>.step_function.<locals>.run_step at 0x000001C187F34790> and will run it as-is.\n",
      "Please report this to the TensorFlow team. When filing the bug, set the verbosity to 10 (on Linux, `export AUTOGRAPH_VERBOSITY=10`) and attach the full output.\n",
      "Cause: closure mismatch, requested ('model',), but source function had ()\n",
      "To silence this warning, decorate the function with @tf.autograph.experimental.do_not_convert\n",
      "696/696 [==============================] - 251s 352ms/step - loss: 1.7902 - acc: 0.3493 - val_loss: 1.7284 - val_acc: 0.3395\n",
      "Epoch 2/100\n",
      "696/696 [==============================] - 244s 351ms/step - loss: 1.6972 - acc: 0.3673 - val_loss: 1.6787 - val_acc: 0.3854\n",
      "Epoch 3/100\n",
      "501/696 [====================>.........] - ETA: 2:59:53 - loss: 1.6778 - acc: 0.3849"
     ]
    }
   ],
   "source": [
    "num_epochs = 100\n",
    "num_batch_size = 32\n",
    "\n",
    "# checkpointer = ModelCheckpoint(filepath='saved_models/audio_classification11.hdf5', \n",
    "#                                verbose=1, save_best_only=True)\n",
    "start = datetime.now()\n",
    "\n",
    "model.fit(X_train, y_train, batch_size=num_batch_size, epochs=num_epochs, validation_data=(X_test, y_test), verbose=1)\n",
    "\n",
    "\n",
    "duration = datetime.now() - start\n",
    "print(\"Training completed in time: \", duration)"
   ]
  },
  {
   "cell_type": "code",
   "execution_count": null,
   "id": "64b8d23e",
   "metadata": {},
   "outputs": [],
   "source": []
  }
 ],
 "metadata": {
  "kernelspec": {
   "display_name": "Python 3",
   "language": "python",
   "name": "python3"
  },
  "language_info": {
   "codemirror_mode": {
    "name": "ipython",
    "version": 3
   },
   "file_extension": ".py",
   "mimetype": "text/x-python",
   "name": "python",
   "nbconvert_exporter": "python",
   "pygments_lexer": "ipython3",
   "version": "3.9.1"
  }
 },
 "nbformat": 4,
 "nbformat_minor": 5
}
